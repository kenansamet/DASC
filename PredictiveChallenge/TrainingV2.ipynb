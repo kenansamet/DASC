{
 "cells": [
  {
   "cell_type": "code",
   "execution_count": 1,
   "metadata": {},
   "outputs": [],
   "source": [
    "import numpy as np\n",
    "import pandas as pd\n",
    "import seaborn as sns\n",
    "import matplotlib.pyplot as plt\n",
    "from sklearn.model_selection import train_test_split"
   ]
  },
  {
   "cell_type": "markdown",
   "metadata": {},
   "source": [
    "# Read the data"
   ]
  },
  {
   "cell_type": "code",
   "execution_count": 2,
   "metadata": {},
   "outputs": [
    {
     "data": {
      "text/html": [
       "<div>\n",
       "<style scoped>\n",
       "    .dataframe tbody tr th:only-of-type {\n",
       "        vertical-align: middle;\n",
       "    }\n",
       "\n",
       "    .dataframe tbody tr th {\n",
       "        vertical-align: top;\n",
       "    }\n",
       "\n",
       "    .dataframe thead th {\n",
       "        text-align: right;\n",
       "    }\n",
       "</style>\n",
       "<table border=\"1\" class=\"dataframe\">\n",
       "  <thead>\n",
       "    <tr style=\"text-align: right;\">\n",
       "      <th></th>\n",
       "      <th>State</th>\n",
       "      <th>Sex</th>\n",
       "      <th>GeneralHealth</th>\n",
       "      <th>PhysicalHealthDays</th>\n",
       "      <th>MentalHealthDays</th>\n",
       "      <th>LastCheckupTime</th>\n",
       "      <th>PhysicalActivities</th>\n",
       "      <th>SleepHours</th>\n",
       "      <th>RemovedTeeth</th>\n",
       "      <th>HadHeartAttack</th>\n",
       "      <th>...</th>\n",
       "      <th>HeightInMeters</th>\n",
       "      <th>WeightInKilograms</th>\n",
       "      <th>BMI</th>\n",
       "      <th>AlcoholDrinkers</th>\n",
       "      <th>HIVTesting</th>\n",
       "      <th>FluVaxLast12</th>\n",
       "      <th>PneumoVaxEver</th>\n",
       "      <th>TetanusLast10Tdap</th>\n",
       "      <th>HighRiskLastYear</th>\n",
       "      <th>CovidPos</th>\n",
       "    </tr>\n",
       "  </thead>\n",
       "  <tbody>\n",
       "    <tr>\n",
       "      <th>0</th>\n",
       "      <td>Alabama</td>\n",
       "      <td>Female</td>\n",
       "      <td>Very good</td>\n",
       "      <td>4.0</td>\n",
       "      <td>0.0</td>\n",
       "      <td>Within past year (anytime less than 12 months ...</td>\n",
       "      <td>Yes</td>\n",
       "      <td>9.0</td>\n",
       "      <td>None of them</td>\n",
       "      <td>No</td>\n",
       "      <td>...</td>\n",
       "      <td>1.60</td>\n",
       "      <td>71.67</td>\n",
       "      <td>27.99</td>\n",
       "      <td>No</td>\n",
       "      <td>No</td>\n",
       "      <td>Yes</td>\n",
       "      <td>Yes</td>\n",
       "      <td>Yes, received Tdap</td>\n",
       "      <td>No</td>\n",
       "      <td>No</td>\n",
       "    </tr>\n",
       "    <tr>\n",
       "      <th>1</th>\n",
       "      <td>Alabama</td>\n",
       "      <td>Male</td>\n",
       "      <td>Very good</td>\n",
       "      <td>0.0</td>\n",
       "      <td>0.0</td>\n",
       "      <td>Within past year (anytime less than 12 months ...</td>\n",
       "      <td>Yes</td>\n",
       "      <td>6.0</td>\n",
       "      <td>None of them</td>\n",
       "      <td>No</td>\n",
       "      <td>...</td>\n",
       "      <td>1.78</td>\n",
       "      <td>95.25</td>\n",
       "      <td>30.13</td>\n",
       "      <td>No</td>\n",
       "      <td>No</td>\n",
       "      <td>Yes</td>\n",
       "      <td>Yes</td>\n",
       "      <td>Yes, received tetanus shot but not sure what type</td>\n",
       "      <td>No</td>\n",
       "      <td>No</td>\n",
       "    </tr>\n",
       "    <tr>\n",
       "      <th>2</th>\n",
       "      <td>Alabama</td>\n",
       "      <td>Male</td>\n",
       "      <td>Very good</td>\n",
       "      <td>0.0</td>\n",
       "      <td>0.0</td>\n",
       "      <td>Within past year (anytime less than 12 months ...</td>\n",
       "      <td>No</td>\n",
       "      <td>8.0</td>\n",
       "      <td>6 or more, but not all</td>\n",
       "      <td>No</td>\n",
       "      <td>...</td>\n",
       "      <td>1.85</td>\n",
       "      <td>108.86</td>\n",
       "      <td>31.66</td>\n",
       "      <td>Yes</td>\n",
       "      <td>No</td>\n",
       "      <td>No</td>\n",
       "      <td>Yes</td>\n",
       "      <td>No, did not receive any tetanus shot in the pa...</td>\n",
       "      <td>No</td>\n",
       "      <td>Yes</td>\n",
       "    </tr>\n",
       "    <tr>\n",
       "      <th>3</th>\n",
       "      <td>Alabama</td>\n",
       "      <td>Female</td>\n",
       "      <td>Fair</td>\n",
       "      <td>5.0</td>\n",
       "      <td>0.0</td>\n",
       "      <td>Within past year (anytime less than 12 months ...</td>\n",
       "      <td>Yes</td>\n",
       "      <td>9.0</td>\n",
       "      <td>None of them</td>\n",
       "      <td>No</td>\n",
       "      <td>...</td>\n",
       "      <td>1.70</td>\n",
       "      <td>90.72</td>\n",
       "      <td>31.32</td>\n",
       "      <td>No</td>\n",
       "      <td>No</td>\n",
       "      <td>Yes</td>\n",
       "      <td>Yes</td>\n",
       "      <td>No, did not receive any tetanus shot in the pa...</td>\n",
       "      <td>No</td>\n",
       "      <td>Yes</td>\n",
       "    </tr>\n",
       "    <tr>\n",
       "      <th>4</th>\n",
       "      <td>Alabama</td>\n",
       "      <td>Female</td>\n",
       "      <td>Good</td>\n",
       "      <td>3.0</td>\n",
       "      <td>15.0</td>\n",
       "      <td>Within past year (anytime less than 12 months ...</td>\n",
       "      <td>Yes</td>\n",
       "      <td>5.0</td>\n",
       "      <td>1 to 5</td>\n",
       "      <td>No</td>\n",
       "      <td>...</td>\n",
       "      <td>1.55</td>\n",
       "      <td>79.38</td>\n",
       "      <td>33.07</td>\n",
       "      <td>No</td>\n",
       "      <td>No</td>\n",
       "      <td>Yes</td>\n",
       "      <td>Yes</td>\n",
       "      <td>No, did not receive any tetanus shot in the pa...</td>\n",
       "      <td>No</td>\n",
       "      <td>No</td>\n",
       "    </tr>\n",
       "  </tbody>\n",
       "</table>\n",
       "<p>5 rows × 40 columns</p>\n",
       "</div>"
      ],
      "text/plain": [
       "     State     Sex GeneralHealth  PhysicalHealthDays  MentalHealthDays  \\\n",
       "0  Alabama  Female     Very good                 4.0               0.0   \n",
       "1  Alabama    Male     Very good                 0.0               0.0   \n",
       "2  Alabama    Male     Very good                 0.0               0.0   \n",
       "3  Alabama  Female          Fair                 5.0               0.0   \n",
       "4  Alabama  Female          Good                 3.0              15.0   \n",
       "\n",
       "                                     LastCheckupTime PhysicalActivities  \\\n",
       "0  Within past year (anytime less than 12 months ...                Yes   \n",
       "1  Within past year (anytime less than 12 months ...                Yes   \n",
       "2  Within past year (anytime less than 12 months ...                 No   \n",
       "3  Within past year (anytime less than 12 months ...                Yes   \n",
       "4  Within past year (anytime less than 12 months ...                Yes   \n",
       "\n",
       "   SleepHours            RemovedTeeth HadHeartAttack  ... HeightInMeters  \\\n",
       "0         9.0            None of them             No  ...           1.60   \n",
       "1         6.0            None of them             No  ...           1.78   \n",
       "2         8.0  6 or more, but not all             No  ...           1.85   \n",
       "3         9.0            None of them             No  ...           1.70   \n",
       "4         5.0                  1 to 5             No  ...           1.55   \n",
       "\n",
       "  WeightInKilograms    BMI AlcoholDrinkers HIVTesting FluVaxLast12  \\\n",
       "0             71.67  27.99              No         No          Yes   \n",
       "1             95.25  30.13              No         No          Yes   \n",
       "2            108.86  31.66             Yes         No           No   \n",
       "3             90.72  31.32              No         No          Yes   \n",
       "4             79.38  33.07              No         No          Yes   \n",
       "\n",
       "  PneumoVaxEver                                  TetanusLast10Tdap  \\\n",
       "0           Yes                                 Yes, received Tdap   \n",
       "1           Yes  Yes, received tetanus shot but not sure what type   \n",
       "2           Yes  No, did not receive any tetanus shot in the pa...   \n",
       "3           Yes  No, did not receive any tetanus shot in the pa...   \n",
       "4           Yes  No, did not receive any tetanus shot in the pa...   \n",
       "\n",
       "  HighRiskLastYear CovidPos  \n",
       "0               No       No  \n",
       "1               No       No  \n",
       "2               No      Yes  \n",
       "3               No      Yes  \n",
       "4               No       No  \n",
       "\n",
       "[5 rows x 40 columns]"
      ]
     },
     "execution_count": 2,
     "metadata": {},
     "output_type": "execute_result"
    }
   ],
   "source": [
    "#Read the csv\n",
    "df = pd.read_csv('../../../archive/2022/heart_2022_no_nans.csv')\n",
    "df.head()"
   ]
  },
  {
   "cell_type": "markdown",
   "metadata": {},
   "source": [
    "### Check for duplicates and drop them | Check for nulls"
   ]
  },
  {
   "cell_type": "code",
   "execution_count": 3,
   "metadata": {},
   "outputs": [
    {
     "data": {
      "text/plain": [
       "9"
      ]
     },
     "execution_count": 3,
     "metadata": {},
     "output_type": "execute_result"
    }
   ],
   "source": [
    "int(df.duplicated().sum())"
   ]
  },
  {
   "cell_type": "code",
   "execution_count": 4,
   "metadata": {},
   "outputs": [],
   "source": [
    "df = df.drop_duplicates()"
   ]
  },
  {
   "cell_type": "code",
   "execution_count": 5,
   "metadata": {},
   "outputs": [
    {
     "data": {
      "text/plain": [
       "State                        0\n",
       "Sex                          0\n",
       "GeneralHealth                0\n",
       "PhysicalHealthDays           0\n",
       "MentalHealthDays             0\n",
       "LastCheckupTime              0\n",
       "PhysicalActivities           0\n",
       "SleepHours                   0\n",
       "RemovedTeeth                 0\n",
       "HadHeartAttack               0\n",
       "HadAngina                    0\n",
       "HadStroke                    0\n",
       "HadAsthma                    0\n",
       "HadSkinCancer                0\n",
       "HadCOPD                      0\n",
       "HadDepressiveDisorder        0\n",
       "HadKidneyDisease             0\n",
       "HadArthritis                 0\n",
       "HadDiabetes                  0\n",
       "DeafOrHardOfHearing          0\n",
       "BlindOrVisionDifficulty      0\n",
       "DifficultyConcentrating      0\n",
       "DifficultyWalking            0\n",
       "DifficultyDressingBathing    0\n",
       "DifficultyErrands            0\n",
       "SmokerStatus                 0\n",
       "ECigaretteUsage              0\n",
       "ChestScan                    0\n",
       "RaceEthnicityCategory        0\n",
       "AgeCategory                  0\n",
       "HeightInMeters               0\n",
       "WeightInKilograms            0\n",
       "BMI                          0\n",
       "AlcoholDrinkers              0\n",
       "HIVTesting                   0\n",
       "FluVaxLast12                 0\n",
       "PneumoVaxEver                0\n",
       "TetanusLast10Tdap            0\n",
       "HighRiskLastYear             0\n",
       "CovidPos                     0\n",
       "dtype: int64"
      ]
     },
     "execution_count": 5,
     "metadata": {},
     "output_type": "execute_result"
    }
   ],
   "source": [
    "df.isnull().sum()"
   ]
  },
  {
   "cell_type": "markdown",
   "metadata": {},
   "source": [
    "After the EDA we decided to use the dataset that does not contain any null values. The source dataset was avaiable in two forms with and without nan. \n",
    "\n",
    "From here on the data prepation simular to the EDA is done to get rid of non numerical (categorical) coloumn. "
   ]
  },
  {
   "cell_type": "markdown",
   "metadata": {},
   "source": [
    "### Print all non numeric columns to convert them (givin each category a numerical value)"
   ]
  },
  {
   "cell_type": "code",
   "execution_count": 6,
   "metadata": {},
   "outputs": [
    {
     "name": "stdout",
     "output_type": "stream",
     "text": [
      "Column: State Values: ['Alabama' 'Alaska' 'Arizona' 'Arkansas' 'California' 'Colorado'\n",
      " 'Connecticut' 'Delaware' 'District of Columbia' 'Florida' 'Georgia'\n",
      " 'Hawaii' 'Idaho' 'Illinois' 'Indiana' 'Iowa' 'Kansas' 'Kentucky'\n",
      " 'Louisiana' 'Maine' 'Maryland' 'Massachusetts' 'Michigan' 'Minnesota'\n",
      " 'Mississippi' 'Missouri' 'Montana' 'Nebraska' 'Nevada' 'New Hampshire'\n",
      " 'New Jersey' 'New Mexico' 'New York' 'North Carolina' 'North Dakota'\n",
      " 'Ohio' 'Oklahoma' 'Oregon' 'Pennsylvania' 'Rhode Island' 'South Carolina'\n",
      " 'South Dakota' 'Tennessee' 'Texas' 'Utah' 'Vermont' 'Virginia'\n",
      " 'Washington' 'West Virginia' 'Wisconsin' 'Wyoming' 'Guam' 'Puerto Rico'\n",
      " 'Virgin Islands']\n",
      "Column: Sex Values: ['Female' 'Male']\n",
      "Column: GeneralHealth Values: ['Very good' 'Fair' 'Good' 'Excellent' 'Poor']\n",
      "Column: LastCheckupTime Values: ['Within past year (anytime less than 12 months ago)'\n",
      " '5 or more years ago'\n",
      " 'Within past 2 years (1 year but less than 2 years ago)'\n",
      " 'Within past 5 years (2 years but less than 5 years ago)']\n",
      "Column: PhysicalActivities Values: ['Yes' 'No']\n",
      "Column: RemovedTeeth Values: ['None of them' '6 or more, but not all' '1 to 5' 'All']\n",
      "Column: HadHeartAttack Values: ['No' 'Yes']\n",
      "Column: HadAngina Values: ['No' 'Yes']\n",
      "Column: HadStroke Values: ['No' 'Yes']\n",
      "Column: HadAsthma Values: ['No' 'Yes']\n",
      "Column: HadSkinCancer Values: ['No' 'Yes']\n",
      "Column: HadCOPD Values: ['No' 'Yes']\n",
      "Column: HadDepressiveDisorder Values: ['No' 'Yes']\n",
      "Column: HadKidneyDisease Values: ['No' 'Yes']\n",
      "Column: HadArthritis Values: ['Yes' 'No']\n",
      "Column: HadDiabetes Values: ['No' 'Yes' 'Yes, but only during pregnancy (female)'\n",
      " 'No, pre-diabetes or borderline diabetes']\n",
      "Column: DeafOrHardOfHearing Values: ['No' 'Yes']\n",
      "Column: BlindOrVisionDifficulty Values: ['No' 'Yes']\n",
      "Column: DifficultyConcentrating Values: ['No' 'Yes']\n",
      "Column: DifficultyWalking Values: ['No' 'Yes']\n",
      "Column: DifficultyDressingBathing Values: ['No' 'Yes']\n",
      "Column: DifficultyErrands Values: ['No' 'Yes']\n",
      "Column: SmokerStatus Values: ['Former smoker' 'Never smoked' 'Current smoker - now smokes every day'\n",
      " 'Current smoker - now smokes some days']\n",
      "Column: ECigaretteUsage Values: ['Never used e-cigarettes in my entire life' 'Use them some days'\n",
      " 'Not at all (right now)' 'Use them every day']\n",
      "Column: ChestScan Values: ['No' 'Yes']\n",
      "Column: RaceEthnicityCategory Values: ['White only, Non-Hispanic' 'Black only, Non-Hispanic'\n",
      " 'Other race only, Non-Hispanic' 'Multiracial, Non-Hispanic' 'Hispanic']\n",
      "Column: AgeCategory Values: ['Age 65 to 69' 'Age 70 to 74' 'Age 75 to 79' 'Age 80 or older'\n",
      " 'Age 50 to 54' 'Age 40 to 44' 'Age 60 to 64' 'Age 55 to 59'\n",
      " 'Age 45 to 49' 'Age 35 to 39' 'Age 25 to 29' 'Age 30 to 34'\n",
      " 'Age 18 to 24']\n",
      "Column: AlcoholDrinkers Values: ['No' 'Yes']\n",
      "Column: HIVTesting Values: ['No' 'Yes']\n",
      "Column: FluVaxLast12 Values: ['Yes' 'No']\n",
      "Column: PneumoVaxEver Values: ['Yes' 'No']\n",
      "Column: TetanusLast10Tdap Values: ['Yes, received Tdap' 'Yes, received tetanus shot but not sure what type'\n",
      " 'No, did not receive any tetanus shot in the past 10 years'\n",
      " 'Yes, received tetanus shot, but not Tdap']\n",
      "Column: HighRiskLastYear Values: ['No' 'Yes']\n",
      "Column: CovidPos Values: ['No' 'Yes'\n",
      " 'Tested positive using home test without a health professional']\n"
     ]
    }
   ],
   "source": [
    "non_numeric_columns = df.select_dtypes(exclude=['number']).columns\n",
    "\n",
    "# Return values of non numerical columns \n",
    "def printUniqueValues(df,column):\n",
    "    return f'Column: {column} Values: {df[column].unique()}'\n",
    "def categorical_into_numerical_yes_no(df,column):\n",
    "    return  df[column].apply(lambda val: 0 if( val == 'No') else 1 if (val == 'Yes') else  val)\n",
    "for column in non_numeric_columns:\n",
    "    row = printUniqueValues(df, column)\n",
    "    print(row)"
   ]
  },
  {
   "cell_type": "code",
   "execution_count": 7,
   "metadata": {},
   "outputs": [],
   "source": [
    "df.loc[:,'Sex_n'] = df['Sex'].apply(lambda val: 0 if( val == 'Male') else 1 ) # 0 if male 1 if female\n",
    "df.loc[:,'LastCheckupTime_n'] = df['LastCheckupTime'].apply( lambda val: 0 if (val == 'Within past year (anytime less than 12 months ago)')\n",
    "                                                            else 1 if (val == 'Within past 2 years (1 year but less than 2 years ago)') \n",
    "                                                            else 2 if (val == 'Within past 5 years (2 years but less than 5 years ago)')\n",
    "                                                            else 3 if (val ==  '5 or more years ago')\n",
    "                                                            else val)\n",
    "df.loc[:,'RemovedTeeth_n'] = df['RemovedTeeth'].apply(lambda val: 0 if (val == 'None of them') \n",
    "                                                        else 1 if (val == '1 to 5')\n",
    "                                                        else 2 if (val == '6 or more, but not all' )\n",
    "                                                        else 3 if (val == 'All')\n",
    "                                                        else val)\n",
    "df.loc[:,'GeneralHealth_n'] = df['GeneralHealth'].apply(lambda val: 0 if val == 'Poor'\n",
    "                                                          else 1 if val == 'Fair'  \n",
    "                                                          else 2 if val == 'Good'\n",
    "                                                          else 3 if val == 'Very good'\n",
    "                                                          else 4 if val == 'Excellent'\n",
    "                                                          else val) \n",
    "df.loc[:,'CovidPos_n'] = df['CovidPos'].apply(lambda val: 0 if (val == 'No')\n",
    "                                                else 1 if (val == 'Tested positive using home test without a health professional')\n",
    "                                                else 2 if (val == 'Yes')\n",
    "                                                else val)\n",
    "df.loc[:,'TetanusLast10Tdap_n'] = df['TetanusLast10Tdap'].apply(lambda val: 0 if (val == 'Yes, received Tdap') \n",
    "                                                                else 1 if (val == 'Yes, received tetanus shot, but not Tdap' )\n",
    "                                                                else 2 if (val == 'Yes, received tetanus shot but not sure what type')\n",
    "                                                                else 3 if (val == 'No, did not receive any tetanus shot in the past 10 years')\n",
    "                                                                else val)\n",
    "df.loc[:,'AgeCategory_n'] = df['AgeCategory'].apply(lambda val: 18 if val == 'Age 18 to 24'\n",
    "                                                          else 25 if val == 'Age 25 to 29'  \n",
    "                                                          else 30 if val == 'Age 30 to 34'\n",
    "                                                          else 35 if val == 'Age 35 to 39'\n",
    "                                                          else 40 if val == 'Age 40 to 44'\n",
    "                                                          else 45 if val == 'Age 45 to 49'\n",
    "                                                          else 50 if val == 'Age 50 to 54'\n",
    "                                                          else 55 if val == 'Age 55 to 59'\n",
    "                                                          else 60 if val == 'Age 60 to 64'\n",
    "                                                          else 65 if val == 'Age 65 to 69'\n",
    "                                                          else 70 if val == 'Age 70 to 74'\n",
    "                                                          else 75 if val == 'Age 75 to 79'\n",
    "                                                          else 80 if val == 'Age 80 or older'\n",
    "                                                          else val) # Age into numerical category based on start age of range so 18 to 24 will be 18\n",
    "df.loc[:,'HadDiabetes_n'] = df['HadDiabetes'].apply(lambda val: 0 if val == 'No'\n",
    "                                                          else 1 if val == 'No, pre-diabetes or borderline diabetes'  \n",
    "                                                          else 2 if val == 'Yes, but only during pregnancy (female)'\n",
    "                                                          else 3 if val == 'Yes'\n",
    "                                                          else val) # scale from 0 to 3 based on value\n",
    "df.loc[:,'SmokerStatus_n'] = df['SmokerStatus'].apply(lambda val: 0 if val == 'Never smoked'\n",
    "                                                          else 1 if val == 'Former smoker' \n",
    "                                                          else 2 if val == 'Current smoker - now smokes some days'\n",
    "                                                          else 3 if val == 'Current smoker - now smokes every day'\n",
    "                                                          else val) # scale from 0 to 4 based on value\n",
    "df.loc[:,'ECigaretteUsage_n'] = df['ECigaretteUsage'].apply(lambda val: 0 if val == 'Never used e-cigarettes in my entire life'\n",
    "                                                          else 1 if val == 'Not at all (right now)' \n",
    "                                                          else 2 if val == 'Use them some days'\n",
    "                                                          else 3 if val == 'Use them every day'\n",
    "                                                          else val) # scale from 0 to 4 based on value\n",
    "\n",
    "for column in non_numeric_columns:\n",
    "    unique_values = set(df[column].unique())  \n",
    "    if unique_values.issubset({'Yes', 'No'}):  \n",
    "        df[f'{column}_n'] = categorical_into_numerical_yes_no(df, column)\n",
    "        df.drop(columns=[column], inplace=True)\n",
    "df.drop(columns=['State','Sex','GeneralHealth','AgeCategory','HadDiabetes','SmokerStatus','ECigaretteUsage','RaceEthnicityCategory','LastCheckupTime'\n",
    "                 ,'RemovedTeeth','CovidPos','TetanusLast10Tdap'], inplace=True)\n"
   ]
  },
  {
   "cell_type": "code",
   "execution_count": 8,
   "metadata": {},
   "outputs": [
    {
     "name": "stdout",
     "output_type": "stream",
     "text": [
      "<class 'pandas.core.frame.DataFrame'>\n",
      "Index: 246013 entries, 0 to 246021\n",
      "Data columns (total 38 columns):\n",
      " #   Column                       Non-Null Count   Dtype  \n",
      "---  ------                       --------------   -----  \n",
      " 0   PhysicalHealthDays           246013 non-null  float64\n",
      " 1   MentalHealthDays             246013 non-null  float64\n",
      " 2   SleepHours                   246013 non-null  float64\n",
      " 3   HeightInMeters               246013 non-null  float64\n",
      " 4   WeightInKilograms            246013 non-null  float64\n",
      " 5   BMI                          246013 non-null  float64\n",
      " 6   Sex_n                        246013 non-null  int64  \n",
      " 7   LastCheckupTime_n            246013 non-null  int64  \n",
      " 8   RemovedTeeth_n               246013 non-null  int64  \n",
      " 9   GeneralHealth_n              246013 non-null  int64  \n",
      " 10  CovidPos_n                   246013 non-null  int64  \n",
      " 11  TetanusLast10Tdap_n          246013 non-null  int64  \n",
      " 12  AgeCategory_n                246013 non-null  int64  \n",
      " 13  HadDiabetes_n                246013 non-null  int64  \n",
      " 14  SmokerStatus_n               246013 non-null  int64  \n",
      " 15  ECigaretteUsage_n            246013 non-null  int64  \n",
      " 16  PhysicalActivities_n         246013 non-null  int64  \n",
      " 17  HadHeartAttack_n             246013 non-null  int64  \n",
      " 18  HadAngina_n                  246013 non-null  int64  \n",
      " 19  HadStroke_n                  246013 non-null  int64  \n",
      " 20  HadAsthma_n                  246013 non-null  int64  \n",
      " 21  HadSkinCancer_n              246013 non-null  int64  \n",
      " 22  HadCOPD_n                    246013 non-null  int64  \n",
      " 23  HadDepressiveDisorder_n      246013 non-null  int64  \n",
      " 24  HadKidneyDisease_n           246013 non-null  int64  \n",
      " 25  HadArthritis_n               246013 non-null  int64  \n",
      " 26  DeafOrHardOfHearing_n        246013 non-null  int64  \n",
      " 27  BlindOrVisionDifficulty_n    246013 non-null  int64  \n",
      " 28  DifficultyConcentrating_n    246013 non-null  int64  \n",
      " 29  DifficultyWalking_n          246013 non-null  int64  \n",
      " 30  DifficultyDressingBathing_n  246013 non-null  int64  \n",
      " 31  DifficultyErrands_n          246013 non-null  int64  \n",
      " 32  ChestScan_n                  246013 non-null  int64  \n",
      " 33  AlcoholDrinkers_n            246013 non-null  int64  \n",
      " 34  HIVTesting_n                 246013 non-null  int64  \n",
      " 35  FluVaxLast12_n               246013 non-null  int64  \n",
      " 36  PneumoVaxEver_n              246013 non-null  int64  \n",
      " 37  HighRiskLastYear_n           246013 non-null  int64  \n",
      "dtypes: float64(6), int64(32)\n",
      "memory usage: 73.2 MB\n"
     ]
    }
   ],
   "source": [
    "df.info()"
   ]
  },
  {
   "cell_type": "markdown",
   "metadata": {},
   "source": [
    "Until now we got rid of non numerical columns and prepared every categorical column so it can be used for training."
   ]
  },
  {
   "cell_type": "code",
   "execution_count": 11,
   "metadata": {},
   "outputs": [
    {
     "data": {
      "text/html": [
       "<div>\n",
       "<style scoped>\n",
       "    .dataframe tbody tr th:only-of-type {\n",
       "        vertical-align: middle;\n",
       "    }\n",
       "\n",
       "    .dataframe tbody tr th {\n",
       "        vertical-align: top;\n",
       "    }\n",
       "\n",
       "    .dataframe thead th {\n",
       "        text-align: right;\n",
       "    }\n",
       "</style>\n",
       "<table border=\"1\" class=\"dataframe\">\n",
       "  <thead>\n",
       "    <tr style=\"text-align: right;\">\n",
       "      <th></th>\n",
       "      <th>PhysicalHealthDays</th>\n",
       "      <th>MentalHealthDays</th>\n",
       "      <th>SleepHours</th>\n",
       "      <th>HeightInMeters</th>\n",
       "      <th>WeightInKilograms</th>\n",
       "      <th>BMI</th>\n",
       "      <th>Sex_n</th>\n",
       "      <th>LastCheckupTime_n</th>\n",
       "      <th>RemovedTeeth_n</th>\n",
       "      <th>GeneralHealth_n</th>\n",
       "      <th>...</th>\n",
       "      <th>DifficultyConcentrating_n</th>\n",
       "      <th>DifficultyWalking_n</th>\n",
       "      <th>DifficultyDressingBathing_n</th>\n",
       "      <th>DifficultyErrands_n</th>\n",
       "      <th>ChestScan_n</th>\n",
       "      <th>AlcoholDrinkers_n</th>\n",
       "      <th>HIVTesting_n</th>\n",
       "      <th>FluVaxLast12_n</th>\n",
       "      <th>PneumoVaxEver_n</th>\n",
       "      <th>HighRiskLastYear_n</th>\n",
       "    </tr>\n",
       "  </thead>\n",
       "  <tbody>\n",
       "    <tr>\n",
       "      <th>0</th>\n",
       "      <td>4.0</td>\n",
       "      <td>0.0</td>\n",
       "      <td>9.0</td>\n",
       "      <td>1.60</td>\n",
       "      <td>71.67</td>\n",
       "      <td>27.99</td>\n",
       "      <td>1</td>\n",
       "      <td>0</td>\n",
       "      <td>0</td>\n",
       "      <td>3</td>\n",
       "      <td>...</td>\n",
       "      <td>0</td>\n",
       "      <td>0</td>\n",
       "      <td>0</td>\n",
       "      <td>0</td>\n",
       "      <td>0</td>\n",
       "      <td>0</td>\n",
       "      <td>0</td>\n",
       "      <td>1</td>\n",
       "      <td>1</td>\n",
       "      <td>0</td>\n",
       "    </tr>\n",
       "    <tr>\n",
       "      <th>1</th>\n",
       "      <td>0.0</td>\n",
       "      <td>0.0</td>\n",
       "      <td>6.0</td>\n",
       "      <td>1.78</td>\n",
       "      <td>95.25</td>\n",
       "      <td>30.13</td>\n",
       "      <td>0</td>\n",
       "      <td>0</td>\n",
       "      <td>0</td>\n",
       "      <td>3</td>\n",
       "      <td>...</td>\n",
       "      <td>0</td>\n",
       "      <td>0</td>\n",
       "      <td>0</td>\n",
       "      <td>0</td>\n",
       "      <td>0</td>\n",
       "      <td>0</td>\n",
       "      <td>0</td>\n",
       "      <td>1</td>\n",
       "      <td>1</td>\n",
       "      <td>0</td>\n",
       "    </tr>\n",
       "    <tr>\n",
       "      <th>2</th>\n",
       "      <td>0.0</td>\n",
       "      <td>0.0</td>\n",
       "      <td>8.0</td>\n",
       "      <td>1.85</td>\n",
       "      <td>108.86</td>\n",
       "      <td>31.66</td>\n",
       "      <td>0</td>\n",
       "      <td>0</td>\n",
       "      <td>2</td>\n",
       "      <td>3</td>\n",
       "      <td>...</td>\n",
       "      <td>0</td>\n",
       "      <td>1</td>\n",
       "      <td>0</td>\n",
       "      <td>0</td>\n",
       "      <td>1</td>\n",
       "      <td>1</td>\n",
       "      <td>0</td>\n",
       "      <td>0</td>\n",
       "      <td>1</td>\n",
       "      <td>0</td>\n",
       "    </tr>\n",
       "    <tr>\n",
       "      <th>3</th>\n",
       "      <td>5.0</td>\n",
       "      <td>0.0</td>\n",
       "      <td>9.0</td>\n",
       "      <td>1.70</td>\n",
       "      <td>90.72</td>\n",
       "      <td>31.32</td>\n",
       "      <td>1</td>\n",
       "      <td>0</td>\n",
       "      <td>0</td>\n",
       "      <td>1</td>\n",
       "      <td>...</td>\n",
       "      <td>0</td>\n",
       "      <td>1</td>\n",
       "      <td>0</td>\n",
       "      <td>0</td>\n",
       "      <td>0</td>\n",
       "      <td>0</td>\n",
       "      <td>0</td>\n",
       "      <td>1</td>\n",
       "      <td>1</td>\n",
       "      <td>0</td>\n",
       "    </tr>\n",
       "    <tr>\n",
       "      <th>4</th>\n",
       "      <td>3.0</td>\n",
       "      <td>15.0</td>\n",
       "      <td>5.0</td>\n",
       "      <td>1.55</td>\n",
       "      <td>79.38</td>\n",
       "      <td>33.07</td>\n",
       "      <td>1</td>\n",
       "      <td>0</td>\n",
       "      <td>1</td>\n",
       "      <td>2</td>\n",
       "      <td>...</td>\n",
       "      <td>0</td>\n",
       "      <td>0</td>\n",
       "      <td>0</td>\n",
       "      <td>0</td>\n",
       "      <td>0</td>\n",
       "      <td>0</td>\n",
       "      <td>0</td>\n",
       "      <td>1</td>\n",
       "      <td>1</td>\n",
       "      <td>0</td>\n",
       "    </tr>\n",
       "    <tr>\n",
       "      <th>...</th>\n",
       "      <td>...</td>\n",
       "      <td>...</td>\n",
       "      <td>...</td>\n",
       "      <td>...</td>\n",
       "      <td>...</td>\n",
       "      <td>...</td>\n",
       "      <td>...</td>\n",
       "      <td>...</td>\n",
       "      <td>...</td>\n",
       "      <td>...</td>\n",
       "      <td>...</td>\n",
       "      <td>...</td>\n",
       "      <td>...</td>\n",
       "      <td>...</td>\n",
       "      <td>...</td>\n",
       "      <td>...</td>\n",
       "      <td>...</td>\n",
       "      <td>...</td>\n",
       "      <td>...</td>\n",
       "      <td>...</td>\n",
       "      <td>...</td>\n",
       "    </tr>\n",
       "    <tr>\n",
       "      <th>246017</th>\n",
       "      <td>0.0</td>\n",
       "      <td>0.0</td>\n",
       "      <td>6.0</td>\n",
       "      <td>1.78</td>\n",
       "      <td>102.06</td>\n",
       "      <td>32.28</td>\n",
       "      <td>0</td>\n",
       "      <td>1</td>\n",
       "      <td>0</td>\n",
       "      <td>3</td>\n",
       "      <td>...</td>\n",
       "      <td>0</td>\n",
       "      <td>0</td>\n",
       "      <td>0</td>\n",
       "      <td>0</td>\n",
       "      <td>0</td>\n",
       "      <td>1</td>\n",
       "      <td>0</td>\n",
       "      <td>0</td>\n",
       "      <td>0</td>\n",
       "      <td>0</td>\n",
       "    </tr>\n",
       "    <tr>\n",
       "      <th>246018</th>\n",
       "      <td>0.0</td>\n",
       "      <td>7.0</td>\n",
       "      <td>7.0</td>\n",
       "      <td>1.93</td>\n",
       "      <td>90.72</td>\n",
       "      <td>24.34</td>\n",
       "      <td>1</td>\n",
       "      <td>0</td>\n",
       "      <td>0</td>\n",
       "      <td>1</td>\n",
       "      <td>...</td>\n",
       "      <td>0</td>\n",
       "      <td>0</td>\n",
       "      <td>0</td>\n",
       "      <td>0</td>\n",
       "      <td>0</td>\n",
       "      <td>0</td>\n",
       "      <td>0</td>\n",
       "      <td>0</td>\n",
       "      <td>0</td>\n",
       "      <td>0</td>\n",
       "    </tr>\n",
       "    <tr>\n",
       "      <th>246019</th>\n",
       "      <td>0.0</td>\n",
       "      <td>15.0</td>\n",
       "      <td>7.0</td>\n",
       "      <td>1.68</td>\n",
       "      <td>83.91</td>\n",
       "      <td>29.86</td>\n",
       "      <td>0</td>\n",
       "      <td>0</td>\n",
       "      <td>1</td>\n",
       "      <td>2</td>\n",
       "      <td>...</td>\n",
       "      <td>0</td>\n",
       "      <td>0</td>\n",
       "      <td>0</td>\n",
       "      <td>0</td>\n",
       "      <td>0</td>\n",
       "      <td>1</td>\n",
       "      <td>1</td>\n",
       "      <td>1</td>\n",
       "      <td>1</td>\n",
       "      <td>0</td>\n",
       "    </tr>\n",
       "    <tr>\n",
       "      <th>246020</th>\n",
       "      <td>2.0</td>\n",
       "      <td>2.0</td>\n",
       "      <td>7.0</td>\n",
       "      <td>1.70</td>\n",
       "      <td>83.01</td>\n",
       "      <td>28.66</td>\n",
       "      <td>1</td>\n",
       "      <td>0</td>\n",
       "      <td>0</td>\n",
       "      <td>4</td>\n",
       "      <td>...</td>\n",
       "      <td>0</td>\n",
       "      <td>0</td>\n",
       "      <td>0</td>\n",
       "      <td>0</td>\n",
       "      <td>0</td>\n",
       "      <td>0</td>\n",
       "      <td>1</td>\n",
       "      <td>1</td>\n",
       "      <td>0</td>\n",
       "      <td>0</td>\n",
       "    </tr>\n",
       "    <tr>\n",
       "      <th>246021</th>\n",
       "      <td>0.0</td>\n",
       "      <td>0.0</td>\n",
       "      <td>5.0</td>\n",
       "      <td>1.83</td>\n",
       "      <td>108.86</td>\n",
       "      <td>32.55</td>\n",
       "      <td>0</td>\n",
       "      <td>0</td>\n",
       "      <td>0</td>\n",
       "      <td>3</td>\n",
       "      <td>...</td>\n",
       "      <td>0</td>\n",
       "      <td>0</td>\n",
       "      <td>0</td>\n",
       "      <td>0</td>\n",
       "      <td>1</td>\n",
       "      <td>0</td>\n",
       "      <td>1</td>\n",
       "      <td>1</td>\n",
       "      <td>1</td>\n",
       "      <td>0</td>\n",
       "    </tr>\n",
       "  </tbody>\n",
       "</table>\n",
       "<p>246013 rows × 38 columns</p>\n",
       "</div>"
      ],
      "text/plain": [
       "        PhysicalHealthDays  MentalHealthDays  SleepHours  HeightInMeters  \\\n",
       "0                      4.0               0.0         9.0            1.60   \n",
       "1                      0.0               0.0         6.0            1.78   \n",
       "2                      0.0               0.0         8.0            1.85   \n",
       "3                      5.0               0.0         9.0            1.70   \n",
       "4                      3.0              15.0         5.0            1.55   \n",
       "...                    ...               ...         ...             ...   \n",
       "246017                 0.0               0.0         6.0            1.78   \n",
       "246018                 0.0               7.0         7.0            1.93   \n",
       "246019                 0.0              15.0         7.0            1.68   \n",
       "246020                 2.0               2.0         7.0            1.70   \n",
       "246021                 0.0               0.0         5.0            1.83   \n",
       "\n",
       "        WeightInKilograms    BMI  Sex_n  LastCheckupTime_n  RemovedTeeth_n  \\\n",
       "0                   71.67  27.99      1                  0               0   \n",
       "1                   95.25  30.13      0                  0               0   \n",
       "2                  108.86  31.66      0                  0               2   \n",
       "3                   90.72  31.32      1                  0               0   \n",
       "4                   79.38  33.07      1                  0               1   \n",
       "...                   ...    ...    ...                ...             ...   \n",
       "246017             102.06  32.28      0                  1               0   \n",
       "246018              90.72  24.34      1                  0               0   \n",
       "246019              83.91  29.86      0                  0               1   \n",
       "246020              83.01  28.66      1                  0               0   \n",
       "246021             108.86  32.55      0                  0               0   \n",
       "\n",
       "        GeneralHealth_n  ...  DifficultyConcentrating_n  DifficultyWalking_n  \\\n",
       "0                     3  ...                          0                    0   \n",
       "1                     3  ...                          0                    0   \n",
       "2                     3  ...                          0                    1   \n",
       "3                     1  ...                          0                    1   \n",
       "4                     2  ...                          0                    0   \n",
       "...                 ...  ...                        ...                  ...   \n",
       "246017                3  ...                          0                    0   \n",
       "246018                1  ...                          0                    0   \n",
       "246019                2  ...                          0                    0   \n",
       "246020                4  ...                          0                    0   \n",
       "246021                3  ...                          0                    0   \n",
       "\n",
       "        DifficultyDressingBathing_n  DifficultyErrands_n  ChestScan_n  \\\n",
       "0                                 0                    0            0   \n",
       "1                                 0                    0            0   \n",
       "2                                 0                    0            1   \n",
       "3                                 0                    0            0   \n",
       "4                                 0                    0            0   \n",
       "...                             ...                  ...          ...   \n",
       "246017                            0                    0            0   \n",
       "246018                            0                    0            0   \n",
       "246019                            0                    0            0   \n",
       "246020                            0                    0            0   \n",
       "246021                            0                    0            1   \n",
       "\n",
       "        AlcoholDrinkers_n  HIVTesting_n  FluVaxLast12_n  PneumoVaxEver_n  \\\n",
       "0                       0             0               1                1   \n",
       "1                       0             0               1                1   \n",
       "2                       1             0               0                1   \n",
       "3                       0             0               1                1   \n",
       "4                       0             0               1                1   \n",
       "...                   ...           ...             ...              ...   \n",
       "246017                  1             0               0                0   \n",
       "246018                  0             0               0                0   \n",
       "246019                  1             1               1                1   \n",
       "246020                  0             1               1                0   \n",
       "246021                  0             1               1                1   \n",
       "\n",
       "        HighRiskLastYear_n  \n",
       "0                        0  \n",
       "1                        0  \n",
       "2                        0  \n",
       "3                        0  \n",
       "4                        0  \n",
       "...                    ...  \n",
       "246017                   0  \n",
       "246018                   0  \n",
       "246019                   0  \n",
       "246020                   0  \n",
       "246021                   0  \n",
       "\n",
       "[246013 rows x 38 columns]"
      ]
     },
     "execution_count": 11,
     "metadata": {},
     "output_type": "execute_result"
    }
   ],
   "source": [
    "df"
   ]
  },
  {
   "cell_type": "markdown",
   "metadata": {},
   "source": [
    "### Take a look at the distribution"
   ]
  },
  {
   "cell_type": "code",
   "execution_count": 12,
   "metadata": {},
   "outputs": [
    {
     "name": "stdout",
     "output_type": "stream",
     "text": [
      "Distribution of HadHeartAttack\n",
      "Normalized:  HadHeartAttack_n\n",
      "0    0.945389\n",
      "1    0.054611\n",
      "Name: proportion, dtype: float64\n",
      "Actual:  HadHeartAttack_n\n",
      "0    232578\n",
      "1     13435\n",
      "Name: count, dtype: int64\n"
     ]
    }
   ],
   "source": [
    "print('Distribution of HadHeartAttack')\n",
    "print('Normalized: ',df['HadHeartAttack_n'].value_counts(normalize=True))\n",
    "print('Actual: ',df['HadHeartAttack_n'].value_counts())"
   ]
  },
  {
   "cell_type": "markdown",
   "metadata": {},
   "source": [
    "Taking a look at the distribution between heart attacks and no heart attacks, we can see a clear unbalance. Nearly 95% of the dataset do not have one. We have to take that into account for training because now it would be nearly impossible to proper learn heart attacks. \n",
    "\n",
    "So we need methods to balnce the dataset"
   ]
  },
  {
   "cell_type": "markdown",
   "metadata": {},
   "source": [
    "### Helper methods to split the dataset, balance the dataset or balnce it by provided distribution"
   ]
  },
  {
   "cell_type": "code",
   "execution_count": 13,
   "metadata": {},
   "outputs": [],
   "source": [
    "def split_dataset(df, target_column, test_size=0.2, random_state=42):\n",
    "    X = df.drop(columns=[target_column])\n",
    "    y = df[target_column]\n",
    "    \n",
    "    X_train, X_test, y_train, y_test = train_test_split(\n",
    "        X, y, test_size=test_size, random_state=random_state, stratify=y\n",
    "    )\n",
    "    \n",
    "    return X_train, X_test, y_train, y_test\n",
    "\n",
    "def balance_dataset(df, target_column):\n",
    "\n",
    "    df_heartAttack_0 = df[df[target_column] == 0 ] # no heart attack\n",
    "    df_heartAttack_1 = df[df[target_column] == 1 ] # had heart attack\n",
    "\n",
    "    # select smaller class as reference\n",
    "    n_samples = min(len(df_heartAttack_0), len(df_heartAttack_1))\n",
    "\n",
    "    # adapt sampling\n",
    "    balanced_class_0 = df_heartAttack_0.sample(n=n_samples, random_state=42)\n",
    "    balanced_class_1 = df_heartAttack_1.sample(n=n_samples, random_state=42)\n",
    "\n",
    "    balanced_df = pd.concat([balanced_class_0,balanced_class_1])\n",
    "    balanced_df = balanced_df.sample(frac=1, random_state=42) # shuffle \n",
    "\n",
    "    return balanced_df\n",
    "\n",
    "def load_data_from_indicies(df,target_column='HadHeartAttack_n'):\n",
    "    train_indices = pd.read_csv(\"../../TrainTestSets/train_indices.csv\")['index'].tolist()\n",
    "    test_indices = pd.read_csv(\"../../TrainTestSets/test_indices.csv\")['index'].tolist()\n",
    "\n",
    "    X_train = df.loc[train_indices].drop(columns=[target_column])\n",
    "    y_train = df.loc[train_indices][target_column]\n",
    "    X_test = df.loc[test_indices].drop(columns=[target_column])\n",
    "    y_test = df.loc[test_indices][target_column]\n",
    "\n",
    "    return X_train, X_test, y_train, y_test\n",
    "\n",
    "\n",
    "\n",
    "#balnces dataset based on provided distribution\n",
    "def split_dataset_x_distribution(df, target_column, x):\n",
    "\n",
    "    # Separate classes\n",
    "    df_heartAttack_0 = df[df[target_column] == 0]\n",
    "    df_heartAttack_1 = df[df[target_column] == 1]\n",
    "    \n",
    "    # Determine the number of samples to take from each class\n",
    "    if x == 1:\n",
    "        # Equal distribution\n",
    "        n_samples_class_0 = n_samples_class_1 = min(len(df_heartAttack_0), len(df_heartAttack_1))\n",
    "    elif x < 1:\n",
    "        # More class 1 than class 0\n",
    "        n_samples_class_1 = len(df_heartAttack_1)\n",
    "        n_samples_class_0 = int(len(df_heartAttack_1) * x)\n",
    "    else:\n",
    "        # More class 0 than class 1\n",
    "        n_samples_class_0 = len(df_heartAttack_0)\n",
    "        n_samples_class_1 = int(len(df_heartAttack_0) / x)\n",
    "    \n",
    "    # Sample the required number of instances from each class\n",
    "    sampled_class_0 = df_heartAttack_0.sample(n=n_samples_class_0, random_state=42)\n",
    "    sampled_class_1 = df_heartAttack_1.sample(n=n_samples_class_1, random_state=42)\n",
    "    \n",
    "    # Combine and shuffle the dataset\n",
    "    balanced_df = pd.concat([sampled_class_0, sampled_class_1])\n",
    "    balanced_df = balanced_df.sample(frac=1, random_state=42).reset_index(drop=True)\n",
    "    \n",
    "    return balanced_df"
   ]
  },
  {
   "cell_type": "markdown",
   "metadata": {},
   "source": [
    "### Load the data and show the distribution afterwards"
   ]
  },
  {
   "cell_type": "code",
   "execution_count": 14,
   "metadata": {},
   "outputs": [
    {
     "name": "stdout",
     "output_type": "stream",
     "text": [
      "Distribution Traing:\n",
      "HadHeartAttack_n\n",
      "0    0.5\n",
      "1    0.5\n",
      "Name: proportion, dtype: float64 HadHeartAttack_n\n",
      "0    10748\n",
      "1    10748\n",
      "Name: count, dtype: int64\n",
      "Distribution Test:\n",
      "HadHeartAttack_n\n",
      "1    0.5\n",
      "0    0.5\n",
      "Name: proportion, dtype: float64 HadHeartAttack_n\n",
      "1    2687\n",
      "0    2687\n",
      "Name: count, dtype: int64\n"
     ]
    }
   ],
   "source": [
    "df = balance_dataset(df,'HadHeartAttack_n')\n",
    "X_train, X_test, y_train, y_test = split_dataset(df, target_column='HadHeartAttack_n')\n",
    "\n",
    "print(\"Distribution Traing:\")\n",
    "print(y_train.value_counts(normalize=True),y_train.value_counts())\n",
    "print(\"Distribution Test:\")\n",
    "print(y_test.value_counts(normalize=True),y_test.value_counts())"
   ]
  },
  {
   "cell_type": "markdown",
   "metadata": {},
   "source": [
    "Now after calling the balancing we can see a 50 50 distribution. Of course the total number of records decreased but there are still more then 10.000 values per category which is enough. "
   ]
  },
  {
   "cell_type": "markdown",
   "metadata": {},
   "source": [
    "In order to have the same training and test data from now on you can store the sets in csv files and load it from there."
   ]
  },
  {
   "cell_type": "code",
   "execution_count": 49,
   "metadata": {},
   "outputs": [],
   "source": [
    "output_dir = '../Datasets'\n",
    "X_train.to_csv(f\"{output_dir}/X_train.csv\", index=False)\n",
    "y_train.to_csv(f\"{output_dir}/y_train.csv\", index=False)\n",
    "X_test.to_csv(f\"{output_dir}/X_test.csv\", index=False)\n",
    "y_test.to_csv(f\"{output_dir}/y_test.csv\", index=False)"
   ]
  },
  {
   "cell_type": "code",
   "execution_count": 16,
   "metadata": {},
   "outputs": [],
   "source": [
    "from sklearn.compose import ColumnTransformer\n",
    "from sklearn.pipeline import Pipeline\n",
    "from sklearn.preprocessing import StandardScaler, MinMaxScaler\n",
    "from sklearn.ensemble import RandomForestClassifier\n",
    "from sklearn.linear_model import LogisticRegression\n",
    "from sklearn.tree import DecisionTreeClassifier\n",
    "from sklearn.svm import SVC\n",
    "from sklearn.metrics import classification_report\n",
    "from sklearn.metrics import accuracy_score"
   ]
  },
  {
   "cell_type": "markdown",
   "metadata": {},
   "source": [
    "The data is prepared and we have created a train and test set. Now we implement a pipline which has 3 parameters. The training set, what model to use and what scaler. The pipline first transform the training data by unsing a Scaler and creates the model and returns both. "
   ]
  },
  {
   "cell_type": "code",
   "execution_count": 17,
   "metadata": {},
   "outputs": [
    {
     "name": "stdout",
     "output_type": "stream",
     "text": [
      "Accuracy: 0.7920\n"
     ]
    }
   ],
   "source": [
    "def create_pipeline(X_train, model_type='logistic_regression', scaler=StandardScaler()):\n",
    "    numeric_columns = X_train.select_dtypes(include=['int64', 'float64']).columns.tolist()\n",
    "\n",
    "    preprocessor = ColumnTransformer(\n",
    "        transformers=[\n",
    "            ('num', scaler, numeric_columns)\n",
    "        ])\n",
    "\n",
    "    if model_type == 'logistic_regression':\n",
    "        model = LogisticRegression(random_state=42)\n",
    "    elif model_type == 'random_forest':\n",
    "        model = RandomForestClassifier(random_state=42, class_weight='balanced', n_estimators=200, max_depth=5)\n",
    "    elif model_type == 'decision_tree':\n",
    "        model = DecisionTreeClassifier(random_state=42, class_weight='balanced', max_depth=5)\n",
    "    elif model_type == 'svm':\n",
    "        model = SVC(random_state=42, class_weight='balanced', kernel='rbf', probability=True)\n",
    "    else:\n",
    "        raise ValueError(\"Unbekanntes Modell\")\n",
    "\n",
    "    pipeline = Pipeline(steps=[\n",
    "        ('preprocessor', preprocessor),\n",
    "        ('classifier', model)\n",
    "    ])\n",
    "\n",
    "    return pipeline\n",
    "\n",
    "\n",
    "pipeline = create_pipeline(X_train, model_type='random_forest', scaler=MinMaxScaler())\n",
    "pipeline.fit(X_train, y_train)\n",
    "y_pred = pipeline.predict(X_test)\n",
    "accuracy = accuracy_score(y_test, y_pred)\n",
    "print(f'Accuracy: {accuracy:.4f}')"
   ]
  },
  {
   "cell_type": "markdown",
   "metadata": {},
   "source": [
    "We created the first model by using Random forest and a MinMaxcaler. Models like Random forest do not care about distance or variance. That is why a MinMaxScaler is used. The model is trained and the accuracy is 0.7920. This seems to be good. However only the accuracy is not enough to decide if the model is good or not. That is why we take a look at the classification report. It includes precision, recall and the f1-score."
   ]
  },
  {
   "cell_type": "code",
   "execution_count": 19,
   "metadata": {},
   "outputs": [
    {
     "name": "stdout",
     "output_type": "stream",
     "text": [
      "              precision    recall  f1-score   support\n",
      "\n",
      "           0       0.79      0.80      0.79      2687\n",
      "           1       0.80      0.79      0.79      2687\n",
      "\n",
      "    accuracy                           0.79      5374\n",
      "   macro avg       0.79      0.79      0.79      5374\n",
      "weighted avg       0.79      0.79      0.79      5374\n",
      "\n"
     ]
    }
   ],
   "source": [
    "print(classification_report(y_test, y_pred))"
   ]
  },
  {
   "cell_type": "markdown",
   "metadata": {},
   "source": [
    "We can conclude that the values for both classes (0 = no heart attack; 1 = heart attack) are nearly the same. So the model seem to be abtle to predict both in a good manner. It is a little bit strange that the values are all nearly the same but we will do a sanity check at a later point.\n",
    "\n",
    "In order to compare the models we train another one."
   ]
  },
  {
   "cell_type": "code",
   "execution_count": 20,
   "metadata": {},
   "outputs": [
    {
     "name": "stdout",
     "output_type": "stream",
     "text": [
      "Accuracy: 0.7974\n",
      "              precision    recall  f1-score   support\n",
      "\n",
      "           0       0.78      0.83      0.80      2687\n",
      "           1       0.82      0.76      0.79      2687\n",
      "\n",
      "    accuracy                           0.80      5374\n",
      "   macro avg       0.80      0.80      0.80      5374\n",
      "weighted avg       0.80      0.80      0.80      5374\n",
      "\n"
     ]
    }
   ],
   "source": [
    "pipeline_svm = create_pipeline(X_train, model_type='svm', scaler=StandardScaler())\n",
    "pipeline_svm.fit(X_train, y_train)\n",
    "y_pred_svm = pipeline_svm.predict(X_test)\n",
    "accuracy_svm = accuracy_score(y_test, y_pred_svm)\n",
    "print(f'Accuracy: {accuracy_svm:.4f}')\n",
    "print(classification_report(y_test, y_pred_svm))"
   ]
  },
  {
   "cell_type": "markdown",
   "metadata": {},
   "source": [
    "If we compare the accuracy, we can see that ther are no significant changes. The same counts for precision and recall for both classes. However the recall for class 1 for the SVM is a litle bit below the recall of the random forest. Since we want to minimize this error the random forest model seems to be a better choice. We rather want to have a false alarm then a missed case. "
   ]
  },
  {
   "cell_type": "markdown",
   "metadata": {},
   "source": [
    "### Lets take a look at the confusion matrix, the ROC curve and the F1 score curve"
   ]
  },
  {
   "cell_type": "code",
   "execution_count": 21,
   "metadata": {},
   "outputs": [
    {
     "data": {
      "image/png": "[encoded data removed]",
      "text/plain": [
       "<Figure size 1800x400 with 4 Axes>"
      ]
     },
     "metadata": {},
     "output_type": "display_data"
    }
   ],
   "source": [
    "from sklearn.metrics import confusion_matrix, ConfusionMatrixDisplay, roc_curve, roc_auc_score, f1_score\n",
    "\n",
    "fig, axes = plt.subplots(1, 3, figsize=(18, 4)) \n",
    "cm = confusion_matrix(y_test, y_pred)\n",
    "disp = ConfusionMatrixDisplay(confusion_matrix=cm, display_labels=[0, 1])\n",
    "disp.plot(cmap='Blues', ax=axes[0]) \n",
    "axes[0].set_title(\"Confusion Matrix\")\n",
    "# ROC Curve \n",
    "y_prob = pipeline.predict_proba(X_test)[:, 1] \n",
    "fpr, tpr, thresholds = roc_curve(y_test, y_prob)\n",
    "auc = roc_auc_score(y_test, y_prob)\n",
    "\n",
    "axes[1].plot(fpr, tpr, label=f'AUC = {auc:.2f}')\n",
    "axes[1].plot([0, 1], [0, 1], 'k--')  # Diagonale\n",
    "axes[1].set_xlabel('False Positive Rate')\n",
    "axes[1].set_ylabel('True Positive Rate')\n",
    "axes[1].set_title('ROC Curve')\n",
    "axes[1].legend(loc='best')\n",
    "\n",
    "# F1-Score Curve\n",
    "f1_scores = [f1_score(y_test, (y_prob >= threshold).astype(int)) for threshold in thresholds]\n",
    "\n",
    "axes[2].plot(thresholds, f1_scores, label='F1 Score')\n",
    "axes[2].set_xlabel('Threshold')\n",
    "axes[2].set_ylabel('F1 Score')\n",
    "axes[2].set_title('F1 Score vs. Threshold')\n",
    "axes[2].legend(loc='best')\n",
    "\n",
    "plt.tight_layout()\n",
    "plt.show()"
   ]
  },
  {
   "cell_type": "markdown",
   "metadata": {},
   "source": [
    "The confusion matrix explains why the values are all nearly the same in the classification report. The correct predicitons as well as the two error types have nearly the same values. Remebering the recall aspect we want to minimize the value in the lower left corner. So want to reduce the prediction of 0 (no heart attack) when it actually is one. \n",
    "\n",
    "The ROC and F1 curve show a promising behavior. The elbow of the ROC curve should go to the upper left corner and for the F1 curve it should go to the upper right corner. This is the case for both. "
   ]
  },
  {
   "cell_type": "markdown",
   "metadata": {},
   "source": [
    "## Lets predict on only males or only females"
   ]
  },
  {
   "cell_type": "code",
   "execution_count": 22,
   "metadata": {},
   "outputs": [
    {
     "name": "stdout",
     "output_type": "stream",
     "text": [
      "Accuracy male: 0.7924; Accuracy female: 0.7914\n",
      "Classification report males\n",
      "              precision    recall  f1-score   support\n",
      "\n",
      "           0       0.74      0.78      0.76      1254\n",
      "           1       0.83      0.80      0.82      1737\n",
      "\n",
      "    accuracy                           0.79      2991\n",
      "   macro avg       0.79      0.79      0.79      2991\n",
      "weighted avg       0.79      0.79      0.79      2991\n",
      "\n",
      "Classification report females\n",
      "              precision    recall  f1-score   support\n",
      "\n",
      "           0       0.83      0.82      0.83      1433\n",
      "           1       0.73      0.75      0.74       950\n",
      "\n",
      "    accuracy                           0.79      2383\n",
      "   macro avg       0.78      0.78      0.78      2383\n",
      "weighted avg       0.79      0.79      0.79      2383\n",
      "\n"
     ]
    }
   ],
   "source": [
    "#Splitting test dataset into male and females\n",
    "X_test_male   = X_test[X_test['Sex_n'] == 0]\n",
    "X_test_female = X_test[X_test['Sex_n'] == 1]\n",
    "y_test_male   = y_test[X_test['Sex_n'] == 0]\n",
    "y_test_female = y_test[X_test['Sex_n'] == 1]\n",
    "#Predict on the different test sets\n",
    "y_pred_male    = pipeline.predict(X_test_male)\n",
    "y_pred_female = pipeline.predict(X_test_female)\n",
    "#Check accuracy\n",
    "accuracy_male = accuracy_score(y_test_male, y_pred_male)\n",
    "accuracy_female = accuracy_score(y_test_female, y_pred_female)\n",
    "print(f'Accuracy male: {accuracy_male:.4f}; Accuracy female: {accuracy_female:.4f}')\n",
    "print('Classification report males')\n",
    "print(classification_report(y_test_male, y_pred_male))\n",
    "print('Classification report females')\n",
    "print(classification_report(y_test_female, y_pred_female))"
   ]
  },
  {
   "cell_type": "code",
   "execution_count": 23,
   "metadata": {},
   "outputs": [
    {
     "data": {
      "image/png": "[encoded data removed]",
      "text/plain": [
       "<Figure size 1200x400 with 4 Axes>"
      ]
     },
     "metadata": {},
     "output_type": "display_data"
    }
   ],
   "source": [
    "fig, axes = plt.subplots(1, 2, figsize=(12, 4)) \n",
    "#confusion matrix male\n",
    "cm_male = confusion_matrix(y_test_male, y_pred_male)\n",
    "disp = ConfusionMatrixDisplay(confusion_matrix=cm_male, display_labels=[0, 1])\n",
    "disp.plot(cmap='Blues', ax=axes[0]) \n",
    "axes[0].set_title(\"Confusion Matrix male\")\n",
    "#confusion matrix females\n",
    "cm_female = confusion_matrix(y_test_female, y_pred_female)\n",
    "disp = ConfusionMatrixDisplay(confusion_matrix=cm_female, display_labels=[0, 1])\n",
    "disp.plot(cmap='Blues', ax=axes[1]) \n",
    "axes[1].set_title(\"Confusion Matrix female\")\n",
    "plt.tight_layout()\n",
    "plt.show()"
   ]
  },
  {
   "cell_type": "markdown",
   "metadata": {},
   "source": [
    "Taking a look back at the EDA we saw that there were more females having a heart attack. So it is interesting to investigate how good the model performs on both genders individually. \n",
    "The accuracy for males and females are same. Both are arounf 0.79. The interesting aspect is that the precison for class 0 by males went down a little bit and for class 1 it increased. The recall is more or less the same with 0.78 for class 0 and 0.80 for class 1. For females it is the other way around. So the precision for class 0 went up and down for class 1. We can conlude that there is a slightly difference but overall the model performs on both genders. This can also be seen in the confusion matrix for the genders.\n",
    "\n",
    "For now we used every column as a feature. Maybe using less could imrpove the model?"
   ]
  },
  {
   "cell_type": "markdown",
   "metadata": {},
   "source": [
    "## Feature enginieering, see which have the most important and train with less features"
   ]
  },
  {
   "cell_type": "code",
   "execution_count": 24,
   "metadata": {},
   "outputs": [
    {
     "name": "stdout",
     "output_type": "stream",
     "text": [
      "                Feature  Importance\n",
      "17          HadAngina_n    0.338064\n",
      "12        AgeCategory_n    0.148201\n",
      "31          ChestScan_n    0.127160\n",
      "9       GeneralHealth_n    0.095173\n",
      "28  DifficultyWalking_n    0.053995\n",
      "8        RemovedTeeth_n    0.048459\n",
      "18          HadStroke_n    0.044801\n",
      "35      PneumoVaxEver_n    0.022598\n",
      "13        HadDiabetes_n    0.021017\n",
      "24       HadArthritis_n    0.020500\n",
      "0    PhysicalHealthDays    0.016071\n",
      "6                 Sex_n    0.014576\n",
      "14       SmokerStatus_n    0.010646\n",
      "21            HadCOPD_n    0.010283\n"
     ]
    }
   ],
   "source": [
    "feature_importances = pipeline.named_steps['classifier'].feature_importances_\n",
    "features = X_train.columns\n",
    "importance_df = pd.DataFrame({\n",
    "    'Feature': features,\n",
    "    'Importance': feature_importances\n",
    "}).sort_values(by='Importance', ascending=False)\n",
    "\n",
    "print(importance_df.head(14)) # the first 14 features have a importance >= 0.01"
   ]
  },
  {
   "cell_type": "code",
   "execution_count": 25,
   "metadata": {},
   "outputs": [],
   "source": [
    "top_features = importance_df['Feature'].head(14).tolist() # only features with a \n",
    "X_train_reduced = X_train[top_features]\n",
    "X_test_reduced = X_test[top_features]"
   ]
  },
  {
   "cell_type": "code",
   "execution_count": 26,
   "metadata": {},
   "outputs": [
    {
     "name": "stdout",
     "output_type": "stream",
     "text": [
      "Accuracy: 0.7925\n",
      "              precision    recall  f1-score   support\n",
      "\n",
      "           0       0.78      0.82      0.80      2687\n",
      "           1       0.81      0.77      0.79      2687\n",
      "\n",
      "    accuracy                           0.79      5374\n",
      "   macro avg       0.79      0.79      0.79      5374\n",
      "weighted avg       0.79      0.79      0.79      5374\n",
      "\n"
     ]
    }
   ],
   "source": [
    "pipeline_reduced = create_pipeline(X_train_reduced, model_type='random_forest')\n",
    "pipeline_reduced.fit(X_train_reduced, y_train)\n",
    "y_pred_reduced = pipeline_reduced.predict(X_test_reduced)\n",
    "accuracy2 = accuracy_score(y_test, y_pred_reduced)\n",
    "print(f'Accuracy: {accuracy2:.4f}')\n",
    "print(classification_report(y_test, y_pred_reduced))"
   ]
  },
  {
   "cell_type": "markdown",
   "metadata": {},
   "source": [
    "The accuracy and the classification report show the same behaviour again. The values stay nearly the same. So reducing the number of features did not make a major difference. \n",
    "\n",
    "If we rember the first classification report we mentioned that it is maybe strange that all values are the same. In order to make sure everything is right we performed a sanity check."
   ]
  },
  {
   "cell_type": "markdown",
   "metadata": {},
   "source": [
    "## Sanity check"
   ]
  },
  {
   "cell_type": "code",
   "execution_count": 27,
   "metadata": {},
   "outputs": [
    {
     "name": "stdout",
     "output_type": "stream",
     "text": [
      "Mean Accuracy: 0.4649\n",
      "Mean Precision (Class 0): 0.4689, Mean Precision (Class 1): 0.4596\n",
      "Mean Recall (Class 0): 0.4865, Mean Recall (Class 1): 0.4434\n"
     ]
    }
   ],
   "source": [
    "from sklearn.metrics import precision_score, recall_score, accuracy_score\n",
    "from sklearn.utils import shuffle\n",
    "\n",
    "def randomized_sanity_check(runs, X_train, y_train, model_type):\n",
    "    acc_list = []\n",
    "    precision_class_0 = []\n",
    "    precision_class_1 = []\n",
    "    recall_class_0 = []\n",
    "    recall_class_1 = []\n",
    "    \n",
    "    for i in range(runs):\n",
    "        y_train_randomized = shuffle(y_train, random_state=42 + i)\n",
    "        pipeline_randomized = create_pipeline(X_train, model_type=model_type)\n",
    "        pipeline_randomized.fit(X_train, y_train_randomized)\n",
    "        \n",
    "        y_pred_randomized = pipeline_randomized.predict(X_test)\n",
    "        \n",
    "        acc_list.append(accuracy_score(y_test, y_pred_randomized))\n",
    "        precisions = precision_score(y_test, y_pred_randomized, average=None, zero_division=0)\n",
    "        recalls = recall_score(y_test, y_pred_randomized, average=None, zero_division=0)\n",
    "        \n",
    "        precision_class_0.append(precisions[0])\n",
    "        precision_class_1.append(precisions[1])\n",
    "        recall_class_0.append(recalls[0])\n",
    "        recall_class_1.append(recalls[1])\n",
    "    \n",
    "    # Return all metrics\n",
    "    return {\n",
    "        \"accuracy\": acc_list,\n",
    "        \"precision_class_0\": precision_class_0,\n",
    "        \"precision_class_1\": precision_class_1,\n",
    "        \"recall_class_0\": recall_class_0,\n",
    "        \"recall_class_1\": recall_class_1\n",
    "    }\n",
    "\n",
    "# Execute the function\n",
    "sanity_metrics = randomized_sanity_check(5, X_train, y_train, 'random_forest')\n",
    "\n",
    "# Calculate and display mean metrics\n",
    "mean_accuracy = np.mean(sanity_metrics['accuracy'])\n",
    "mean_precision_class_0 = np.mean(sanity_metrics['precision_class_0'])\n",
    "mean_precision_class_1 = np.mean(sanity_metrics['precision_class_1'])\n",
    "mean_recall_class_0 = np.mean(sanity_metrics['recall_class_0'])\n",
    "mean_recall_class_1 = np.mean(sanity_metrics['recall_class_1'])\n",
    "\n",
    "print(f\"Mean Accuracy: {mean_accuracy:.4f}\")\n",
    "print(f\"Mean Precision (Class 0): {mean_precision_class_0:.4f}, Mean Precision (Class 1): {mean_precision_class_1:.4f}\")\n",
    "print(f\"Mean Recall (Class 0): {mean_recall_class_0:.4f}, Mean Recall (Class 1): {mean_recall_class_1:.4f}\")"
   ]
  },
  {
   "cell_type": "markdown",
   "metadata": {},
   "source": [
    "The vlaues went down a lot. The accuracy is worse as well as the precision and recall. This is good because it indicates that out model can be correct and the same values are not strange. "
   ]
  },
  {
   "cell_type": "markdown",
   "metadata": {},
   "source": [
    "## Try out with neural network\n",
    "\n",
    "Since we learned DL as well we thought it is interesting to train a neural network with a simple architecture."
   ]
  },
  {
   "cell_type": "code",
   "execution_count": 28,
   "metadata": {},
   "outputs": [],
   "source": [
    "import tensorflow as tf\n",
    "from tensorflow.keras.models import Sequential\n",
    "from tensorflow.keras.layers import Dense, Input"
   ]
  },
  {
   "cell_type": "code",
   "execution_count": 29,
   "metadata": {},
   "outputs": [
    {
     "data": {
      "text/html": [
       "<pre style=\"white-space:pre;overflow-x:auto;line-height:normal;font-family:Menlo,'DejaVu Sans Mono',consolas,'Courier New',monospace\"><span style=\"font-weight: bold\">Model: \"sequential\"</span>\n",
       "</pre>\n"
      ],
      "text/plain": [
       "\u001b[1mModel: \"sequential\"\u001b[0m\n"
      ]
     },
     "metadata": {},
     "output_type": "display_data"
    },
    {
     "data": {
      "text/html": [
       "<pre style=\"white-space:pre;overflow-x:auto;line-height:normal;font-family:Menlo,'DejaVu Sans Mono',consolas,'Courier New',monospace\">┏━━━━━━━━━━━━━━━━━━━━━━━━━━━━━━━━━┳━━━━━━━━━━━━━━━━━━━━━━━━┳━━━━━━━━━━━━━━━┓\n",
       "┃<span style=\"font-weight: bold\"> Layer (type)                    </span>┃<span style=\"font-weight: bold\"> Output Shape           </span>┃<span style=\"font-weight: bold\">       Param # </span>┃\n",
       "┡━━━━━━━━━━━━━━━━━━━━━━━━━━━━━━━━━╇━━━━━━━━━━━━━━━━━━━━━━━━╇━━━━━━━━━━━━━━━┩\n",
       "│ dense (<span style=\"color: #0087ff; text-decoration-color: #0087ff\">Dense</span>)                   │ (<span style=\"color: #00d7ff; text-decoration-color: #00d7ff\">None</span>, <span style=\"color: #00af00; text-decoration-color: #00af00\">128</span>)            │         <span style=\"color: #00af00; text-decoration-color: #00af00\">4,864</span> │\n",
       "├─────────────────────────────────┼────────────────────────┼───────────────┤\n",
       "│ dense_1 (<span style=\"color: #0087ff; text-decoration-color: #0087ff\">Dense</span>)                 │ (<span style=\"color: #00d7ff; text-decoration-color: #00d7ff\">None</span>, <span style=\"color: #00af00; text-decoration-color: #00af00\">64</span>)             │         <span style=\"color: #00af00; text-decoration-color: #00af00\">8,256</span> │\n",
       "├─────────────────────────────────┼────────────────────────┼───────────────┤\n",
       "│ dense_2 (<span style=\"color: #0087ff; text-decoration-color: #0087ff\">Dense</span>)                 │ (<span style=\"color: #00d7ff; text-decoration-color: #00d7ff\">None</span>, <span style=\"color: #00af00; text-decoration-color: #00af00\">1</span>)              │            <span style=\"color: #00af00; text-decoration-color: #00af00\">65</span> │\n",
       "└─────────────────────────────────┴────────────────────────┴───────────────┘\n",
       "</pre>\n"
      ],
      "text/plain": [
       "┏━━━━━━━━━━━━━━━━━━━━━━━━━━━━━━━━━┳━━━━━━━━━━━━━━━━━━━━━━━━┳━━━━━━━━━━━━━━━┓\n",
       "┃\u001b[1m \u001b[0m\u001b[1mLayer (type)                   \u001b[0m\u001b[1m \u001b[0m┃\u001b[1m \u001b[0m\u001b[1mOutput Shape          \u001b[0m\u001b[1m \u001b[0m┃\u001b[1m \u001b[0m\u001b[1m      Param #\u001b[0m\u001b[1m \u001b[0m┃\n",
       "┡━━━━━━━━━━━━━━━━━━━━━━━━━━━━━━━━━╇━━━━━━━━━━━━━━━━━━━━━━━━╇━━━━━━━━━━━━━━━┩\n",
       "│ dense (\u001b[38;5;33mDense\u001b[0m)                   │ (\u001b[38;5;45mNone\u001b[0m, \u001b[38;5;34m128\u001b[0m)            │         \u001b[38;5;34m4,864\u001b[0m │\n",
       "├─────────────────────────────────┼────────────────────────┼───────────────┤\n",
       "│ dense_1 (\u001b[38;5;33mDense\u001b[0m)                 │ (\u001b[38;5;45mNone\u001b[0m, \u001b[38;5;34m64\u001b[0m)             │         \u001b[38;5;34m8,256\u001b[0m │\n",
       "├─────────────────────────────────┼────────────────────────┼───────────────┤\n",
       "│ dense_2 (\u001b[38;5;33mDense\u001b[0m)                 │ (\u001b[38;5;45mNone\u001b[0m, \u001b[38;5;34m1\u001b[0m)              │            \u001b[38;5;34m65\u001b[0m │\n",
       "└─────────────────────────────────┴────────────────────────┴───────────────┘\n"
      ]
     },
     "metadata": {},
     "output_type": "display_data"
    },
    {
     "data": {
      "text/html": [
       "<pre style=\"white-space:pre;overflow-x:auto;line-height:normal;font-family:Menlo,'DejaVu Sans Mono',consolas,'Courier New',monospace\"><span style=\"font-weight: bold\"> Total params: </span><span style=\"color: #00af00; text-decoration-color: #00af00\">13,185</span> (51.50 KB)\n",
       "</pre>\n"
      ],
      "text/plain": [
       "\u001b[1m Total params: \u001b[0m\u001b[38;5;34m13,185\u001b[0m (51.50 KB)\n"
      ]
     },
     "metadata": {},
     "output_type": "display_data"
    },
    {
     "data": {
      "text/html": [
       "<pre style=\"white-space:pre;overflow-x:auto;line-height:normal;font-family:Menlo,'DejaVu Sans Mono',consolas,'Courier New',monospace\"><span style=\"font-weight: bold\"> Trainable params: </span><span style=\"color: #00af00; text-decoration-color: #00af00\">13,185</span> (51.50 KB)\n",
       "</pre>\n"
      ],
      "text/plain": [
       "\u001b[1m Trainable params: \u001b[0m\u001b[38;5;34m13,185\u001b[0m (51.50 KB)\n"
      ]
     },
     "metadata": {},
     "output_type": "display_data"
    },
    {
     "data": {
      "text/html": [
       "<pre style=\"white-space:pre;overflow-x:auto;line-height:normal;font-family:Menlo,'DejaVu Sans Mono',consolas,'Courier New',monospace\"><span style=\"font-weight: bold\"> Non-trainable params: </span><span style=\"color: #00af00; text-decoration-color: #00af00\">0</span> (0.00 B)\n",
       "</pre>\n"
      ],
      "text/plain": [
       "\u001b[1m Non-trainable params: \u001b[0m\u001b[38;5;34m0\u001b[0m (0.00 B)\n"
      ]
     },
     "metadata": {},
     "output_type": "display_data"
    }
   ],
   "source": [
    "early_stopping = tf.keras.callbacks.EarlyStopping(monitor='val_loss', patience=20, restore_best_weights=True)\n",
    "model = Sequential([\n",
    "    Input(shape=(X_train.shape[1],)),  \n",
    "    Dense(128, activation='relu'),\n",
    "    Dense(64, activation='relu'),\n",
    "    Dense(1, activation='sigmoid')\n",
    "])\n",
    "model.summary()\n",
    "optimizer = tf.keras.optimizers.Adam(learning_rate=0.0001)\n",
    "model.compile(optimizer=optimizer, loss='binary_crossentropy', metrics=['accuracy'])"
   ]
  },
  {
   "cell_type": "code",
   "execution_count": 30,
   "metadata": {},
   "outputs": [
    {
     "name": "stdout",
     "output_type": "stream",
     "text": [
      "Epoch 1/50\n",
      "\u001b[1m672/672\u001b[0m \u001b[32m━━━━━━━━━━━━━━━━━━━━\u001b[0m\u001b[37m\u001b[0m \u001b[1m1s\u001b[0m 795us/step - accuracy: 0.5941 - loss: 0.8014 - val_accuracy: 0.7557 - val_loss: 0.5233\n",
      "Epoch 2/50\n",
      "\u001b[1m672/672\u001b[0m \u001b[32m━━━━━━━━━━━━━━━━━━━━\u001b[0m\u001b[37m\u001b[0m \u001b[1m1s\u001b[0m 819us/step - accuracy: 0.7546 - loss: 0.5107 - val_accuracy: 0.7560 - val_loss: 0.4977\n",
      "Epoch 3/50\n",
      "\u001b[1m672/672\u001b[0m \u001b[32m━━━━━━━━━━━━━━━━━━━━\u001b[0m\u001b[37m\u001b[0m \u001b[1m0s\u001b[0m 697us/step - accuracy: 0.7747 - loss: 0.4796 - val_accuracy: 0.7856 - val_loss: 0.4584\n",
      "Epoch 4/50\n",
      "\u001b[1m672/672\u001b[0m \u001b[32m━━━━━━━━━━━━━━━━━━━━\u001b[0m\u001b[37m\u001b[0m \u001b[1m1s\u001b[0m 765us/step - accuracy: 0.7823 - loss: 0.4591 - val_accuracy: 0.7886 - val_loss: 0.4484\n",
      "Epoch 5/50\n",
      "\u001b[1m672/672\u001b[0m \u001b[32m━━━━━━━━━━━━━━━━━━━━\u001b[0m\u001b[37m\u001b[0m \u001b[1m0s\u001b[0m 710us/step - accuracy: 0.7887 - loss: 0.4495 - val_accuracy: 0.7873 - val_loss: 0.4475\n",
      "Epoch 6/50\n",
      "\u001b[1m672/672\u001b[0m \u001b[32m━━━━━━━━━━━━━━━━━━━━\u001b[0m\u001b[37m\u001b[0m \u001b[1m0s\u001b[0m 721us/step - accuracy: 0.7837 - loss: 0.4469 - val_accuracy: 0.7769 - val_loss: 0.4643\n",
      "Epoch 7/50\n",
      "\u001b[1m672/672\u001b[0m \u001b[32m━━━━━━━━━━━━━━━━━━━━\u001b[0m\u001b[37m\u001b[0m \u001b[1m1s\u001b[0m 773us/step - accuracy: 0.7964 - loss: 0.4347 - val_accuracy: 0.7910 - val_loss: 0.4349\n",
      "Epoch 8/50\n",
      "\u001b[1m672/672\u001b[0m \u001b[32m━━━━━━━━━━━━━━━━━━━━\u001b[0m\u001b[37m\u001b[0m \u001b[1m0s\u001b[0m 712us/step - accuracy: 0.7967 - loss: 0.4304 - val_accuracy: 0.7912 - val_loss: 0.4320\n",
      "Epoch 9/50\n",
      "\u001b[1m672/672\u001b[0m \u001b[32m━━━━━━━━━━━━━━━━━━━━\u001b[0m\u001b[37m\u001b[0m \u001b[1m0s\u001b[0m 680us/step - accuracy: 0.7997 - loss: 0.4298 - val_accuracy: 0.7918 - val_loss: 0.4347\n",
      "Epoch 10/50\n",
      "\u001b[1m672/672\u001b[0m \u001b[32m━━━━━━━━━━━━━━━━━━━━\u001b[0m\u001b[37m\u001b[0m \u001b[1m0s\u001b[0m 687us/step - accuracy: 0.7949 - loss: 0.4330 - val_accuracy: 0.7853 - val_loss: 0.4459\n",
      "Epoch 11/50\n",
      "\u001b[1m672/672\u001b[0m \u001b[32m━━━━━━━━━━━━━━━━━━━━\u001b[0m\u001b[37m\u001b[0m \u001b[1m0s\u001b[0m 682us/step - accuracy: 0.7983 - loss: 0.4296 - val_accuracy: 0.7975 - val_loss: 0.4381\n",
      "Epoch 12/50\n",
      "\u001b[1m672/672\u001b[0m \u001b[32m━━━━━━━━━━━━━━━━━━━━\u001b[0m\u001b[37m\u001b[0m \u001b[1m0s\u001b[0m 693us/step - accuracy: 0.7988 - loss: 0.4267 - val_accuracy: 0.7907 - val_loss: 0.4447\n",
      "Epoch 13/50\n",
      "\u001b[1m672/672\u001b[0m \u001b[32m━━━━━━━━━━━━━━━━━━━━\u001b[0m\u001b[37m\u001b[0m \u001b[1m0s\u001b[0m 679us/step - accuracy: 0.8004 - loss: 0.4295 - val_accuracy: 0.7897 - val_loss: 0.4347\n",
      "Epoch 14/50\n",
      "\u001b[1m672/672\u001b[0m \u001b[32m━━━━━━━━━━━━━━━━━━━━\u001b[0m\u001b[37m\u001b[0m \u001b[1m0s\u001b[0m 702us/step - accuracy: 0.7977 - loss: 0.4299 - val_accuracy: 0.7916 - val_loss: 0.4352\n",
      "Epoch 15/50\n",
      "\u001b[1m672/672\u001b[0m \u001b[32m━━━━━━━━━━━━━━━━━━━━\u001b[0m\u001b[37m\u001b[0m \u001b[1m0s\u001b[0m 709us/step - accuracy: 0.7997 - loss: 0.4255 - val_accuracy: 0.7957 - val_loss: 0.4301\n",
      "Epoch 16/50\n",
      "\u001b[1m672/672\u001b[0m \u001b[32m━━━━━━━━━━━━━━━━━━━━\u001b[0m\u001b[37m\u001b[0m \u001b[1m0s\u001b[0m 709us/step - accuracy: 0.8009 - loss: 0.4215 - val_accuracy: 0.7892 - val_loss: 0.4366\n",
      "Epoch 17/50\n",
      "\u001b[1m672/672\u001b[0m \u001b[32m━━━━━━━━━━━━━━━━━━━━\u001b[0m\u001b[37m\u001b[0m \u001b[1m0s\u001b[0m 686us/step - accuracy: 0.8035 - loss: 0.4221 - val_accuracy: 0.7946 - val_loss: 0.4316\n",
      "Epoch 18/50\n",
      "\u001b[1m672/672\u001b[0m \u001b[32m━━━━━━━━━━━━━━━━━━━━\u001b[0m\u001b[37m\u001b[0m \u001b[1m1s\u001b[0m 834us/step - accuracy: 0.8017 - loss: 0.4281 - val_accuracy: 0.7933 - val_loss: 0.4425\n",
      "Epoch 19/50\n",
      "\u001b[1m672/672\u001b[0m \u001b[32m━━━━━━━━━━━━━━━━━━━━\u001b[0m\u001b[37m\u001b[0m \u001b[1m0s\u001b[0m 685us/step - accuracy: 0.7981 - loss: 0.4255 - val_accuracy: 0.7879 - val_loss: 0.4336\n",
      "Epoch 20/50\n",
      "\u001b[1m672/672\u001b[0m \u001b[32m━━━━━━━━━━━━━━━━━━━━\u001b[0m\u001b[37m\u001b[0m \u001b[1m1s\u001b[0m 745us/step - accuracy: 0.7930 - loss: 0.4335 - val_accuracy: 0.7946 - val_loss: 0.4292\n",
      "Epoch 21/50\n",
      "\u001b[1m672/672\u001b[0m \u001b[32m━━━━━━━━━━━━━━━━━━━━\u001b[0m\u001b[37m\u001b[0m \u001b[1m0s\u001b[0m 700us/step - accuracy: 0.8002 - loss: 0.4276 - val_accuracy: 0.7936 - val_loss: 0.4295\n",
      "Epoch 22/50\n",
      "\u001b[1m672/672\u001b[0m \u001b[32m━━━━━━━━━━━━━━━━━━━━\u001b[0m\u001b[37m\u001b[0m \u001b[1m0s\u001b[0m 688us/step - accuracy: 0.7998 - loss: 0.4267 - val_accuracy: 0.7903 - val_loss: 0.4341\n",
      "Epoch 23/50\n",
      "\u001b[1m672/672\u001b[0m \u001b[32m━━━━━━━━━━━━━━━━━━━━\u001b[0m\u001b[37m\u001b[0m \u001b[1m0s\u001b[0m 724us/step - accuracy: 0.7997 - loss: 0.4287 - val_accuracy: 0.7927 - val_loss: 0.4328\n",
      "Epoch 24/50\n",
      "\u001b[1m672/672\u001b[0m \u001b[32m━━━━━━━━━━━━━━━━━━━━\u001b[0m\u001b[37m\u001b[0m \u001b[1m1s\u001b[0m 730us/step - accuracy: 0.8025 - loss: 0.4193 - val_accuracy: 0.7899 - val_loss: 0.4347\n",
      "Epoch 25/50\n",
      "\u001b[1m672/672\u001b[0m \u001b[32m━━━━━━━━━━━━━━━━━━━━\u001b[0m\u001b[37m\u001b[0m \u001b[1m0s\u001b[0m 697us/step - accuracy: 0.8008 - loss: 0.4205 - val_accuracy: 0.7974 - val_loss: 0.4295\n",
      "Epoch 26/50\n",
      "\u001b[1m672/672\u001b[0m \u001b[32m━━━━━━━━━━━━━━━━━━━━\u001b[0m\u001b[37m\u001b[0m \u001b[1m0s\u001b[0m 697us/step - accuracy: 0.8003 - loss: 0.4262 - val_accuracy: 0.7940 - val_loss: 0.4279\n",
      "Epoch 27/50\n",
      "\u001b[1m672/672\u001b[0m \u001b[32m━━━━━━━━━━━━━━━━━━━━\u001b[0m\u001b[37m\u001b[0m \u001b[1m0s\u001b[0m 715us/step - accuracy: 0.8012 - loss: 0.4249 - val_accuracy: 0.7858 - val_loss: 0.4354\n",
      "Epoch 28/50\n",
      "\u001b[1m672/672\u001b[0m \u001b[32m━━━━━━━━━━━━━━━━━━━━\u001b[0m\u001b[37m\u001b[0m \u001b[1m0s\u001b[0m 695us/step - accuracy: 0.8045 - loss: 0.4215 - val_accuracy: 0.7927 - val_loss: 0.4402\n",
      "Epoch 29/50\n",
      "\u001b[1m672/672\u001b[0m \u001b[32m━━━━━━━━━━━━━━━━━━━━\u001b[0m\u001b[37m\u001b[0m \u001b[1m0s\u001b[0m 686us/step - accuracy: 0.8048 - loss: 0.4137 - val_accuracy: 0.7869 - val_loss: 0.4410\n",
      "Epoch 30/50\n",
      "\u001b[1m672/672\u001b[0m \u001b[32m━━━━━━━━━━━━━━━━━━━━\u001b[0m\u001b[37m\u001b[0m \u001b[1m0s\u001b[0m 685us/step - accuracy: 0.8026 - loss: 0.4166 - val_accuracy: 0.7938 - val_loss: 0.4318\n",
      "Epoch 31/50\n",
      "\u001b[1m672/672\u001b[0m \u001b[32m━━━━━━━━━━━━━━━━━━━━\u001b[0m\u001b[37m\u001b[0m \u001b[1m0s\u001b[0m 700us/step - accuracy: 0.8070 - loss: 0.4155 - val_accuracy: 0.7949 - val_loss: 0.4284\n",
      "Epoch 32/50\n",
      "\u001b[1m672/672\u001b[0m \u001b[32m━━━━━━━━━━━━━━━━━━━━\u001b[0m\u001b[37m\u001b[0m \u001b[1m0s\u001b[0m 693us/step - accuracy: 0.8028 - loss: 0.4210 - val_accuracy: 0.7938 - val_loss: 0.4439\n",
      "Epoch 33/50\n",
      "\u001b[1m672/672\u001b[0m \u001b[32m━━━━━━━━━━━━━━━━━━━━\u001b[0m\u001b[37m\u001b[0m \u001b[1m0s\u001b[0m 681us/step - accuracy: 0.8091 - loss: 0.4187 - val_accuracy: 0.7975 - val_loss: 0.4305\n",
      "Epoch 34/50\n",
      "\u001b[1m672/672\u001b[0m \u001b[32m━━━━━━━━━━━━━━━━━━━━\u001b[0m\u001b[37m\u001b[0m \u001b[1m0s\u001b[0m 707us/step - accuracy: 0.8042 - loss: 0.4237 - val_accuracy: 0.7953 - val_loss: 0.4322\n",
      "Epoch 35/50\n",
      "\u001b[1m672/672\u001b[0m \u001b[32m━━━━━━━━━━━━━━━━━━━━\u001b[0m\u001b[37m\u001b[0m \u001b[1m1s\u001b[0m 783us/step - accuracy: 0.8048 - loss: 0.4225 - val_accuracy: 0.7877 - val_loss: 0.4347\n",
      "Epoch 36/50\n",
      "\u001b[1m672/672\u001b[0m \u001b[32m━━━━━━━━━━━━━━━━━━━━\u001b[0m\u001b[37m\u001b[0m \u001b[1m0s\u001b[0m 689us/step - accuracy: 0.7962 - loss: 0.4307 - val_accuracy: 0.7955 - val_loss: 0.4294\n",
      "Epoch 37/50\n",
      "\u001b[1m672/672\u001b[0m \u001b[32m━━━━━━━━━━━━━━━━━━━━\u001b[0m\u001b[37m\u001b[0m \u001b[1m0s\u001b[0m 704us/step - accuracy: 0.7999 - loss: 0.4222 - val_accuracy: 0.7899 - val_loss: 0.4317\n",
      "Epoch 38/50\n",
      "\u001b[1m672/672\u001b[0m \u001b[32m━━━━━━━━━━━━━━━━━━━━\u001b[0m\u001b[37m\u001b[0m \u001b[1m0s\u001b[0m 688us/step - accuracy: 0.8046 - loss: 0.4216 - val_accuracy: 0.7951 - val_loss: 0.4275\n",
      "Epoch 39/50\n",
      "\u001b[1m672/672\u001b[0m \u001b[32m━━━━━━━━━━━━━━━━━━━━\u001b[0m\u001b[37m\u001b[0m \u001b[1m0s\u001b[0m 703us/step - accuracy: 0.7995 - loss: 0.4263 - val_accuracy: 0.7957 - val_loss: 0.4300\n",
      "Epoch 40/50\n",
      "\u001b[1m672/672\u001b[0m \u001b[32m━━━━━━━━━━━━━━━━━━━━\u001b[0m\u001b[37m\u001b[0m \u001b[1m0s\u001b[0m 711us/step - accuracy: 0.8032 - loss: 0.4227 - val_accuracy: 0.7946 - val_loss: 0.4273\n",
      "Epoch 41/50\n",
      "\u001b[1m672/672\u001b[0m \u001b[32m━━━━━━━━━━━━━━━━━━━━\u001b[0m\u001b[37m\u001b[0m \u001b[1m0s\u001b[0m 679us/step - accuracy: 0.8074 - loss: 0.4150 - val_accuracy: 0.7940 - val_loss: 0.4282\n",
      "Epoch 42/50\n",
      "\u001b[1m672/672\u001b[0m \u001b[32m━━━━━━━━━━━━━━━━━━━━\u001b[0m\u001b[37m\u001b[0m \u001b[1m0s\u001b[0m 684us/step - accuracy: 0.8056 - loss: 0.4168 - val_accuracy: 0.7925 - val_loss: 0.4288\n",
      "Epoch 43/50\n",
      "\u001b[1m672/672\u001b[0m \u001b[32m━━━━━━━━━━━━━━━━━━━━\u001b[0m\u001b[37m\u001b[0m \u001b[1m0s\u001b[0m 701us/step - accuracy: 0.8068 - loss: 0.4138 - val_accuracy: 0.7802 - val_loss: 0.4660\n",
      "Epoch 44/50\n",
      "\u001b[1m672/672\u001b[0m \u001b[32m━━━━━━━━━━━━━━━━━━━━\u001b[0m\u001b[37m\u001b[0m \u001b[1m0s\u001b[0m 696us/step - accuracy: 0.8023 - loss: 0.4167 - val_accuracy: 0.7948 - val_loss: 0.4279\n",
      "Epoch 45/50\n",
      "\u001b[1m672/672\u001b[0m \u001b[32m━━━━━━━━━━━━━━━━━━━━\u001b[0m\u001b[37m\u001b[0m \u001b[1m0s\u001b[0m 673us/step - accuracy: 0.8050 - loss: 0.4182 - val_accuracy: 0.7912 - val_loss: 0.4344\n",
      "Epoch 46/50\n",
      "\u001b[1m672/672\u001b[0m \u001b[32m━━━━━━━━━━━━━━━━━━━━\u001b[0m\u001b[37m\u001b[0m \u001b[1m0s\u001b[0m 697us/step - accuracy: 0.8027 - loss: 0.4182 - val_accuracy: 0.7927 - val_loss: 0.4306\n",
      "Epoch 47/50\n",
      "\u001b[1m672/672\u001b[0m \u001b[32m━━━━━━━━━━━━━━━━━━━━\u001b[0m\u001b[37m\u001b[0m \u001b[1m0s\u001b[0m 682us/step - accuracy: 0.8021 - loss: 0.4214 - val_accuracy: 0.7944 - val_loss: 0.4286\n",
      "Epoch 48/50\n",
      "\u001b[1m672/672\u001b[0m \u001b[32m━━━━━━━━━━━━━━━━━━━━\u001b[0m\u001b[37m\u001b[0m \u001b[1m1s\u001b[0m 732us/step - accuracy: 0.8019 - loss: 0.4195 - val_accuracy: 0.7955 - val_loss: 0.4279\n",
      "Epoch 49/50\n",
      "\u001b[1m672/672\u001b[0m \u001b[32m━━━━━━━━━━━━━━━━━━━━\u001b[0m\u001b[37m\u001b[0m \u001b[1m0s\u001b[0m 722us/step - accuracy: 0.8016 - loss: 0.4191 - val_accuracy: 0.7942 - val_loss: 0.4297\n",
      "Epoch 50/50\n",
      "\u001b[1m672/672\u001b[0m \u001b[32m━━━━━━━━━━━━━━━━━━━━\u001b[0m\u001b[37m\u001b[0m \u001b[1m1s\u001b[0m 782us/step - accuracy: 0.8059 - loss: 0.4167 - val_accuracy: 0.7923 - val_loss: 0.4286\n"
     ]
    }
   ],
   "source": [
    "history = model.fit(\n",
    "    X_train,  \n",
    "    y_train,  \n",
    "    validation_data=(X_test, y_test),\n",
    "    epochs=50,  \n",
    "    batch_size=32,  \n",
    "    callbacks=[early_stopping],\n",
    "    verbose=1 \n",
    ")"
   ]
  },
  {
   "cell_type": "markdown",
   "metadata": {},
   "source": [
    "We can see that the accuracy on the test data is 0.80 and for the validation it is 0.7923. The loss is also low for both which can indicate a good performance. The loss is also visualized in the next figures."
   ]
  },
  {
   "cell_type": "code",
   "execution_count": 31,
   "metadata": {},
   "outputs": [
    {
     "data": {
      "image/png": "[encoded data removed]",
      "text/plain": [
       "<Figure size 1200x400 with 2 Axes>"
      ]
     },
     "metadata": {},
     "output_type": "display_data"
    }
   ],
   "source": [
    "# Trainings- und Validierungsverlust\n",
    "plt.figure(figsize=(12,4))\n",
    "plt.subplot(1,2,1)\n",
    "plt.plot(history.history['loss'], label='Training Loss')\n",
    "plt.plot(history.history['val_loss'], label='Validation Loss')\n",
    "plt.title('Training and Validation Loss')\n",
    "plt.xlabel('Epochs')\n",
    "plt.ylabel('Loss')\n",
    "plt.legend()\n",
    "plt.subplot(1,2,2)\n",
    "# Trainings- und Validierungsgenauigkeit\n",
    "plt.plot(history.history['accuracy'], label='Training Accuracy')\n",
    "plt.plot(history.history['val_accuracy'], label='Validation Accuracy')\n",
    "plt.title('Training and Validation Accuracy')\n",
    "plt.xlabel('Epochs')\n",
    "plt.ylabel('Accuracy')\n",
    "plt.legend()\n",
    "plt.show()"
   ]
  },
  {
   "cell_type": "markdown",
   "metadata": {},
   "source": [
    "We can see the loss (left) and the accuracy (right) on the y-axis and the epochs on the x-axis. The more we go to the right the loss gets less and the accuracy goes up which is nice."
   ]
  },
  {
   "cell_type": "code",
   "execution_count": 36,
   "metadata": {},
   "outputs": [
    {
     "name": "stdout",
     "output_type": "stream",
     "text": [
      "\u001b[1m168/168\u001b[0m \u001b[32m━━━━━━━━━━━━━━━━━━━━\u001b[0m\u001b[37m\u001b[0m \u001b[1m0s\u001b[0m 331us/step\n",
      "Accuracy: 0.7946\n",
      "Precision class 0: 0.7844, Precision class 1: 0.8055\n",
      "Recall class 0: 0.8124, Recall class 1: 0.7767\n"
     ]
    },
    {
     "data": {
      "text/plain": [
       "<sklearn.metrics._plot.confusion_matrix.ConfusionMatrixDisplay at 0x15b0a5b90>"
      ]
     },
     "execution_count": 36,
     "metadata": {},
     "output_type": "execute_result"
    },
    {
     "data": {
      "image/png": "[encoded data removed]",
      "text/plain": [
       "<Figure size 640x480 with 2 Axes>"
      ]
     },
     "metadata": {},
     "output_type": "display_data"
    }
   ],
   "source": [
    "y_pred_probs = model.predict(X_test)  \n",
    "y_pred_tf = (y_pred_probs > 0.50).astype(int).flatten() \n",
    "\n",
    "precision = precision_score(y_test, y_pred_tf, average=None)\n",
    "recall = recall_score(y_test, y_pred_tf, average=None)\n",
    "accuracy = accuracy_score(y_test, y_pred_tf)\n",
    "print(f'Accuracy: {accuracy:.4f}')\n",
    "print(f\"Precision class 0: {precision[0]:.4f}, Precision class 1: {precision[1]:.4f}\")\n",
    "print(f\"Recall class 0: {recall[0]:.4f}, Recall class 1: {recall[1]:.4f}\")\n",
    "\n",
    "cm = confusion_matrix(y_test, y_pred_tf)\n",
    "disp = ConfusionMatrixDisplay(confusion_matrix=cm, display_labels=[0, 1])\n",
    "disp.plot(cmap='Blues') \n"
   ]
  },
  {
   "cell_type": "markdown",
   "metadata": {},
   "source": [
    "This shows the confusion matrix for the neural network. We cann se that is really simular to the ones we know from above the values are nearly the same. The only interesting aspect is that we can dirctly manipulate the border when the model predicts a 1 rather then a 0. That is how we could reduce the error of predicting no heart attack when it actually is one. "
   ]
  },
  {
   "cell_type": "markdown",
   "metadata": {},
   "source": [
    "# Conclusion \n",
    "At the end we can say that we have sucessfully trained a model that is able to predict heart attacks. We have used a different models that perform nearly the same. We managed to have good precision and recall as well. If we compare our results with the results from other people on kaggle we can say that our models performs better. A major challange was the inbalance between the two classes. Without changing the distribution, the models perform very poorly and are not usable. That is the main aspect that differentiate us from the results on kaggle. Furthermore we followed the best practices. We strated with an EDA and got a feeling for the data. Then we got rid of all non numerical values so we can use them for training. Then we set up reusable train and test sets and created a pipline. That made it really easy to train different models and compare them. \n",
    "\n",
    "# Recomandations\n",
    "A first recomandation could be to use other distribution between the two classes. So that you have more heart attacks then no heart attack and the other way around. It could be possible to reduce certain error types by that. \n",
    "\n",
    "In addition it could be interesting to use different datasets as well and predict on them with that model. By that you could see how the model performs an other data. The only issues is that you would need to find a dataset with the same features. \n",
    "\n",
    "Furthermore it could be interesting to merge different datasets on same features and train a new model and compare the results again. \n"
   ]
  }
 ],
 "metadata": {
  "kernelspec": {
   "display_name": "Dasc2_env2",
   "language": "python",
   "name": "python3"
  },
  "language_info": {
   "codemirror_mode": {
    "name": "ipython",
    "version": 3
   },
   "file_extension": ".py",
   "mimetype": "text/x-python",
   "name": "python",
   "nbconvert_exporter": "python",
   "pygments_lexer": "ipython3",
   "version": "3.11.7"
  }
 },
 "nbformat": 4,
 "nbformat_minor": 2
}
